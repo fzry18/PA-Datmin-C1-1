{
  "nbformat": 4,
  "nbformat_minor": 0,
  "metadata": {
    "colab": {
      "provenance": [],
      "collapsed_sections": [
        "NLhsE_VA-Hum",
        "nQ-go8tfBLxt",
        "JTYrZMnScyLo",
        "NBMH8nTzoHHe",
        "XRKwSnD0JD2N",
        "0ORHRZ5YaGyc"
      ],
      "include_colab_link": true
    },
    "kernelspec": {
      "name": "python3",
      "display_name": "Python 3"
    },
    "language_info": {
      "name": "python"
    }
  },
  "cells": [
    {
      "cell_type": "markdown",
      "metadata": {
        "id": "view-in-github",
        "colab_type": "text"
      },
      "source": [
        "<a href=\"https://colab.research.google.com/github/fzry18/PA-Datmin-C1-1/blob/main/PA_kelompok_C1_1.ipynb\" target=\"_parent\"><img src=\"https://colab.research.google.com/assets/colab-badge.svg\" alt=\"Open In Colab\"/></a>"
      ]
    },
    {
      "cell_type": "markdown",
      "source": [
        "# 1. Analisis CRISP-DM Supervised Data"
      ],
      "metadata": {
        "id": "F0N-LXThwiqD"
      }
    },
    {
      "cell_type": "markdown",
      "source": [
        "Dimulai dari Business Understanding Hingga Data Preparation \n",
        "<img src=\"https://th.bing.com/th/id/R.f8efea41ae3cd96d86fbc5b10f81ad77?rik=K4Dr%2biIaVGvW8g&riu=http%3a%2f%2fwww.dataprix.com%2ffiles%2fCRISPDM%2fMetodologia_CRISP_DM1_html_52cdbecf.png&ehk=6ONLJMCVxE421Sjt2JJPE6MfCzrL7LLhDZQPdkJTLcw%3d&risl=&pid=ImgRaw&r=0\"/>\n"
      ],
      "metadata": {
        "id": "Vbv4o0Q2uiXZ"
      }
    },
    {
      "cell_type": "markdown",
      "source": [
        "### 1. Business Understanding"
      ],
      "metadata": {
        "id": "5QCyb87J7vlY"
      }
    },
    {
      "cell_type": "markdown",
      "source": [
        "\n",
        "\n",
        "> #### Dataset `students_adaptability_level_online_education.csv` berisi data tentang tingkat adaptabilitas siswa terhadap pendidikan online.\n",
        "\n",
        "\n",
        "> #### Tujuan dari analisis ini adalah untuk mengidentifikasi faktor-faktor yang mempengaruhi tingkat adaptabilitas siswa dan memberikan saran untuk meningkatkan adaptabilitas siswa.\n",
        "\n",
        "\n",
        "\n",
        "> #### Berikut contoh kodingan python untuk membaca dataset `students_adaptability_level_online_education.csv` menggunakan library pandas dan menampilkan jumlah siswa pada setiap tingkat adaptabilitas:\n",
        "\n"
      ],
      "metadata": {
        "id": "iKxX4NfO88O0"
      }
    },
    {
      "cell_type": "code",
      "source": [
        "import pandas as pd\n",
        "\n",
        "df = pd.read_csv('students_adaptability_level_online_education.csv')\n",
        "\n",
        "\n",
        "df\n",
        "# adaptability_count = df['Adaptivity Level'].value_counts()\n",
        "\n",
        "# print(adaptability_count)"
      ],
      "metadata": {
        "id": "-KvU40MV74D4",
        "colab": {
          "base_uri": "https://localhost:8080/",
          "height": 468
        },
        "outputId": "2939ea4f-709d-4650-d967-390c4cc41094"
      },
      "execution_count": 1,
      "outputs": [
        {
          "output_type": "execute_result",
          "data": {
            "text/plain": [
              "     Gender    Age Education Level Institution Type IT Student Location  \\\n",
              "0       Boy  21-25      University   Non Government         No      Yes   \n",
              "1      Girl  21-25      University   Non Government         No      Yes   \n",
              "2      Girl  16-20         College       Government         No      Yes   \n",
              "3      Girl  11-15          School   Non Government         No      Yes   \n",
              "4      Girl  16-20          School   Non Government         No      Yes   \n",
              "...     ...    ...             ...              ...        ...      ...   \n",
              "1200   Girl  16-20         College   Non Government         No      Yes   \n",
              "1201   Girl  16-20         College   Non Government         No       No   \n",
              "1202    Boy  11-15          School   Non Government         No      Yes   \n",
              "1203   Girl  16-20         College   Non Government         No       No   \n",
              "1204   Girl  11-15          School   Non Government         No      Yes   \n",
              "\n",
              "     Load-shedding Financial Condition Internet Type Network Type  \\\n",
              "0              Low                 Mid          Wifi           4G   \n",
              "1             High                 Mid   Mobile Data           4G   \n",
              "2              Low                 Mid          Wifi           4G   \n",
              "3              Low                 Mid   Mobile Data           4G   \n",
              "4              Low                Poor   Mobile Data           3G   \n",
              "...            ...                 ...           ...          ...   \n",
              "1200           Low                 Mid          Wifi           4G   \n",
              "1201          High                 Mid          Wifi           4G   \n",
              "1202           Low                 Mid   Mobile Data           3G   \n",
              "1203           Low                 Mid          Wifi           4G   \n",
              "1204           Low                Poor   Mobile Data           3G   \n",
              "\n",
              "     Class Duration Self Lms  Device Adaptivity Level  \n",
              "0               3-6       No     Tab         Moderate  \n",
              "1               1-3      Yes  Mobile         Moderate  \n",
              "2               1-3       No  Mobile         Moderate  \n",
              "3               1-3       No  Mobile         Moderate  \n",
              "4                 0       No  Mobile              Low  \n",
              "...             ...      ...     ...              ...  \n",
              "1200            1-3       No  Mobile              Low  \n",
              "1201            3-6       No  Mobile         Moderate  \n",
              "1202            1-3       No  Mobile         Moderate  \n",
              "1203            1-3       No  Mobile              Low  \n",
              "1204            1-3       No  Mobile         Moderate  \n",
              "\n",
              "[1205 rows x 14 columns]"
            ],
            "text/html": [
              "\n",
              "  <div id=\"df-0d6a6b3e-c032-4d28-85a3-486b40eded15\">\n",
              "    <div class=\"colab-df-container\">\n",
              "      <div>\n",
              "<style scoped>\n",
              "    .dataframe tbody tr th:only-of-type {\n",
              "        vertical-align: middle;\n",
              "    }\n",
              "\n",
              "    .dataframe tbody tr th {\n",
              "        vertical-align: top;\n",
              "    }\n",
              "\n",
              "    .dataframe thead th {\n",
              "        text-align: right;\n",
              "    }\n",
              "</style>\n",
              "<table border=\"1\" class=\"dataframe\">\n",
              "  <thead>\n",
              "    <tr style=\"text-align: right;\">\n",
              "      <th></th>\n",
              "      <th>Gender</th>\n",
              "      <th>Age</th>\n",
              "      <th>Education Level</th>\n",
              "      <th>Institution Type</th>\n",
              "      <th>IT Student</th>\n",
              "      <th>Location</th>\n",
              "      <th>Load-shedding</th>\n",
              "      <th>Financial Condition</th>\n",
              "      <th>Internet Type</th>\n",
              "      <th>Network Type</th>\n",
              "      <th>Class Duration</th>\n",
              "      <th>Self Lms</th>\n",
              "      <th>Device</th>\n",
              "      <th>Adaptivity Level</th>\n",
              "    </tr>\n",
              "  </thead>\n",
              "  <tbody>\n",
              "    <tr>\n",
              "      <th>0</th>\n",
              "      <td>Boy</td>\n",
              "      <td>21-25</td>\n",
              "      <td>University</td>\n",
              "      <td>Non Government</td>\n",
              "      <td>No</td>\n",
              "      <td>Yes</td>\n",
              "      <td>Low</td>\n",
              "      <td>Mid</td>\n",
              "      <td>Wifi</td>\n",
              "      <td>4G</td>\n",
              "      <td>3-6</td>\n",
              "      <td>No</td>\n",
              "      <td>Tab</td>\n",
              "      <td>Moderate</td>\n",
              "    </tr>\n",
              "    <tr>\n",
              "      <th>1</th>\n",
              "      <td>Girl</td>\n",
              "      <td>21-25</td>\n",
              "      <td>University</td>\n",
              "      <td>Non Government</td>\n",
              "      <td>No</td>\n",
              "      <td>Yes</td>\n",
              "      <td>High</td>\n",
              "      <td>Mid</td>\n",
              "      <td>Mobile Data</td>\n",
              "      <td>4G</td>\n",
              "      <td>1-3</td>\n",
              "      <td>Yes</td>\n",
              "      <td>Mobile</td>\n",
              "      <td>Moderate</td>\n",
              "    </tr>\n",
              "    <tr>\n",
              "      <th>2</th>\n",
              "      <td>Girl</td>\n",
              "      <td>16-20</td>\n",
              "      <td>College</td>\n",
              "      <td>Government</td>\n",
              "      <td>No</td>\n",
              "      <td>Yes</td>\n",
              "      <td>Low</td>\n",
              "      <td>Mid</td>\n",
              "      <td>Wifi</td>\n",
              "      <td>4G</td>\n",
              "      <td>1-3</td>\n",
              "      <td>No</td>\n",
              "      <td>Mobile</td>\n",
              "      <td>Moderate</td>\n",
              "    </tr>\n",
              "    <tr>\n",
              "      <th>3</th>\n",
              "      <td>Girl</td>\n",
              "      <td>11-15</td>\n",
              "      <td>School</td>\n",
              "      <td>Non Government</td>\n",
              "      <td>No</td>\n",
              "      <td>Yes</td>\n",
              "      <td>Low</td>\n",
              "      <td>Mid</td>\n",
              "      <td>Mobile Data</td>\n",
              "      <td>4G</td>\n",
              "      <td>1-3</td>\n",
              "      <td>No</td>\n",
              "      <td>Mobile</td>\n",
              "      <td>Moderate</td>\n",
              "    </tr>\n",
              "    <tr>\n",
              "      <th>4</th>\n",
              "      <td>Girl</td>\n",
              "      <td>16-20</td>\n",
              "      <td>School</td>\n",
              "      <td>Non Government</td>\n",
              "      <td>No</td>\n",
              "      <td>Yes</td>\n",
              "      <td>Low</td>\n",
              "      <td>Poor</td>\n",
              "      <td>Mobile Data</td>\n",
              "      <td>3G</td>\n",
              "      <td>0</td>\n",
              "      <td>No</td>\n",
              "      <td>Mobile</td>\n",
              "      <td>Low</td>\n",
              "    </tr>\n",
              "    <tr>\n",
              "      <th>...</th>\n",
              "      <td>...</td>\n",
              "      <td>...</td>\n",
              "      <td>...</td>\n",
              "      <td>...</td>\n",
              "      <td>...</td>\n",
              "      <td>...</td>\n",
              "      <td>...</td>\n",
              "      <td>...</td>\n",
              "      <td>...</td>\n",
              "      <td>...</td>\n",
              "      <td>...</td>\n",
              "      <td>...</td>\n",
              "      <td>...</td>\n",
              "      <td>...</td>\n",
              "    </tr>\n",
              "    <tr>\n",
              "      <th>1200</th>\n",
              "      <td>Girl</td>\n",
              "      <td>16-20</td>\n",
              "      <td>College</td>\n",
              "      <td>Non Government</td>\n",
              "      <td>No</td>\n",
              "      <td>Yes</td>\n",
              "      <td>Low</td>\n",
              "      <td>Mid</td>\n",
              "      <td>Wifi</td>\n",
              "      <td>4G</td>\n",
              "      <td>1-3</td>\n",
              "      <td>No</td>\n",
              "      <td>Mobile</td>\n",
              "      <td>Low</td>\n",
              "    </tr>\n",
              "    <tr>\n",
              "      <th>1201</th>\n",
              "      <td>Girl</td>\n",
              "      <td>16-20</td>\n",
              "      <td>College</td>\n",
              "      <td>Non Government</td>\n",
              "      <td>No</td>\n",
              "      <td>No</td>\n",
              "      <td>High</td>\n",
              "      <td>Mid</td>\n",
              "      <td>Wifi</td>\n",
              "      <td>4G</td>\n",
              "      <td>3-6</td>\n",
              "      <td>No</td>\n",
              "      <td>Mobile</td>\n",
              "      <td>Moderate</td>\n",
              "    </tr>\n",
              "    <tr>\n",
              "      <th>1202</th>\n",
              "      <td>Boy</td>\n",
              "      <td>11-15</td>\n",
              "      <td>School</td>\n",
              "      <td>Non Government</td>\n",
              "      <td>No</td>\n",
              "      <td>Yes</td>\n",
              "      <td>Low</td>\n",
              "      <td>Mid</td>\n",
              "      <td>Mobile Data</td>\n",
              "      <td>3G</td>\n",
              "      <td>1-3</td>\n",
              "      <td>No</td>\n",
              "      <td>Mobile</td>\n",
              "      <td>Moderate</td>\n",
              "    </tr>\n",
              "    <tr>\n",
              "      <th>1203</th>\n",
              "      <td>Girl</td>\n",
              "      <td>16-20</td>\n",
              "      <td>College</td>\n",
              "      <td>Non Government</td>\n",
              "      <td>No</td>\n",
              "      <td>No</td>\n",
              "      <td>Low</td>\n",
              "      <td>Mid</td>\n",
              "      <td>Wifi</td>\n",
              "      <td>4G</td>\n",
              "      <td>1-3</td>\n",
              "      <td>No</td>\n",
              "      <td>Mobile</td>\n",
              "      <td>Low</td>\n",
              "    </tr>\n",
              "    <tr>\n",
              "      <th>1204</th>\n",
              "      <td>Girl</td>\n",
              "      <td>11-15</td>\n",
              "      <td>School</td>\n",
              "      <td>Non Government</td>\n",
              "      <td>No</td>\n",
              "      <td>Yes</td>\n",
              "      <td>Low</td>\n",
              "      <td>Poor</td>\n",
              "      <td>Mobile Data</td>\n",
              "      <td>3G</td>\n",
              "      <td>1-3</td>\n",
              "      <td>No</td>\n",
              "      <td>Mobile</td>\n",
              "      <td>Moderate</td>\n",
              "    </tr>\n",
              "  </tbody>\n",
              "</table>\n",
              "<p>1205 rows × 14 columns</p>\n",
              "</div>\n",
              "      <button class=\"colab-df-convert\" onclick=\"convertToInteractive('df-0d6a6b3e-c032-4d28-85a3-486b40eded15')\"\n",
              "              title=\"Convert this dataframe to an interactive table.\"\n",
              "              style=\"display:none;\">\n",
              "        \n",
              "  <svg xmlns=\"http://www.w3.org/2000/svg\" height=\"24px\"viewBox=\"0 0 24 24\"\n",
              "       width=\"24px\">\n",
              "    <path d=\"M0 0h24v24H0V0z\" fill=\"none\"/>\n",
              "    <path d=\"M18.56 5.44l.94 2.06.94-2.06 2.06-.94-2.06-.94-.94-2.06-.94 2.06-2.06.94zm-11 1L8.5 8.5l.94-2.06 2.06-.94-2.06-.94L8.5 2.5l-.94 2.06-2.06.94zm10 10l.94 2.06.94-2.06 2.06-.94-2.06-.94-.94-2.06-.94 2.06-2.06.94z\"/><path d=\"M17.41 7.96l-1.37-1.37c-.4-.4-.92-.59-1.43-.59-.52 0-1.04.2-1.43.59L10.3 9.45l-7.72 7.72c-.78.78-.78 2.05 0 2.83L4 21.41c.39.39.9.59 1.41.59.51 0 1.02-.2 1.41-.59l7.78-7.78 2.81-2.81c.8-.78.8-2.07 0-2.86zM5.41 20L4 18.59l7.72-7.72 1.47 1.35L5.41 20z\"/>\n",
              "  </svg>\n",
              "      </button>\n",
              "      \n",
              "  <style>\n",
              "    .colab-df-container {\n",
              "      display:flex;\n",
              "      flex-wrap:wrap;\n",
              "      gap: 12px;\n",
              "    }\n",
              "\n",
              "    .colab-df-convert {\n",
              "      background-color: #E8F0FE;\n",
              "      border: none;\n",
              "      border-radius: 50%;\n",
              "      cursor: pointer;\n",
              "      display: none;\n",
              "      fill: #1967D2;\n",
              "      height: 32px;\n",
              "      padding: 0 0 0 0;\n",
              "      width: 32px;\n",
              "    }\n",
              "\n",
              "    .colab-df-convert:hover {\n",
              "      background-color: #E2EBFA;\n",
              "      box-shadow: 0px 1px 2px rgba(60, 64, 67, 0.3), 0px 1px 3px 1px rgba(60, 64, 67, 0.15);\n",
              "      fill: #174EA6;\n",
              "    }\n",
              "\n",
              "    [theme=dark] .colab-df-convert {\n",
              "      background-color: #3B4455;\n",
              "      fill: #D2E3FC;\n",
              "    }\n",
              "\n",
              "    [theme=dark] .colab-df-convert:hover {\n",
              "      background-color: #434B5C;\n",
              "      box-shadow: 0px 1px 3px 1px rgba(0, 0, 0, 0.15);\n",
              "      filter: drop-shadow(0px 1px 2px rgba(0, 0, 0, 0.3));\n",
              "      fill: #FFFFFF;\n",
              "    }\n",
              "  </style>\n",
              "\n",
              "      <script>\n",
              "        const buttonEl =\n",
              "          document.querySelector('#df-0d6a6b3e-c032-4d28-85a3-486b40eded15 button.colab-df-convert');\n",
              "        buttonEl.style.display =\n",
              "          google.colab.kernel.accessAllowed ? 'block' : 'none';\n",
              "\n",
              "        async function convertToInteractive(key) {\n",
              "          const element = document.querySelector('#df-0d6a6b3e-c032-4d28-85a3-486b40eded15');\n",
              "          const dataTable =\n",
              "            await google.colab.kernel.invokeFunction('convertToInteractive',\n",
              "                                                     [key], {});\n",
              "          if (!dataTable) return;\n",
              "\n",
              "          const docLinkHtml = 'Like what you see? Visit the ' +\n",
              "            '<a target=\"_blank\" href=https://colab.research.google.com/notebooks/data_table.ipynb>data table notebook</a>'\n",
              "            + ' to learn more about interactive tables.';\n",
              "          element.innerHTML = '';\n",
              "          dataTable['output_type'] = 'display_data';\n",
              "          await google.colab.output.renderOutput(dataTable, element);\n",
              "          const docLink = document.createElement('div');\n",
              "          docLink.innerHTML = docLinkHtml;\n",
              "          element.appendChild(docLink);\n",
              "        }\n",
              "      </script>\n",
              "    </div>\n",
              "  </div>\n",
              "  "
            ]
          },
          "metadata": {},
          "execution_count": 1
        }
      ]
    },
    {
      "cell_type": "markdown",
      "source": [
        "### 2.   Data Understanding\n",
        "\n"
      ],
      "metadata": {
        "id": "NLhsE_VA-Hum"
      }
    },
    {
      "cell_type": "markdown",
      "source": [
        "\n",
        "\n",
        "> #### Dalam dataset yang diberikan, variabel target adalah 'adaptability', yang merepresentasikan tingkat adaptabilitas siswa dalam pembelajaran online. \n",
        "\n",
        "> Sedangkan variabel lainnya adalah atribut siswa seperti usia, jenis kelamin, jenis siswa, dan sebagainya. Dengan melakukan data understanding pada dataset ini, Anda dapat memahami karakteristik dataset tersebut dan membantu Anda dalam melakukan analisis data lebih lanjut. \n",
        "\n",
        "> Dataset ini memiliki 1200 baris dan 17 kolom. Kolom pertama adalah 'id', yang merupakan identifier unik untuk setiap sampel dalam dataset. Kolom kedua hingga kelima adalah variabel numerik, sedangkan kolom keenam hingga enam belas adalah variabel kategorikal.\n"
      ],
      "metadata": {
        "id": "ttDRAMNp-Qpu"
      }
    },
    {
      "cell_type": "code",
      "source": [
        "# Import library yang dibutuhkan\n",
        "import pandas as pd\n",
        "import numpy as np\n",
        "import seaborn as sns\n",
        "import matplotlib.pyplot as plt\n",
        "\n",
        "# Load dataset ke dalam DataFrame\n",
        "df = pd.read_csv(\"students_adaptability_level_online_education.csv\")\n",
        "\n",
        "# Cek dimensi dan tipe data\n",
        "print(df.shape)\n",
        "print(df.dtypes)\n",
        "\n",
        "# Cek nilai yang hilang dan statistik deskriptif\n",
        "print(df.isna().sum())\n",
        "print(df.describe())\n"
      ],
      "metadata": {
        "id": "A7WWwb12__aE",
        "colab": {
          "base_uri": "https://localhost:8080/"
        },
        "outputId": "545892b6-3280-4577-ee23-d7e1a5b0fa87"
      },
      "execution_count": 2,
      "outputs": [
        {
          "output_type": "stream",
          "name": "stdout",
          "text": [
            "(1205, 14)\n",
            "Gender                 object\n",
            "Age                    object\n",
            "Education Level        object\n",
            "Institution Type       object\n",
            "IT Student             object\n",
            "Location               object\n",
            "Load-shedding          object\n",
            "Financial Condition    object\n",
            "Internet Type          object\n",
            "Network Type           object\n",
            "Class Duration         object\n",
            "Self Lms               object\n",
            "Device                 object\n",
            "Adaptivity Level       object\n",
            "dtype: object\n",
            "Gender                 0\n",
            "Age                    0\n",
            "Education Level        0\n",
            "Institution Type       0\n",
            "IT Student             0\n",
            "Location               0\n",
            "Load-shedding          0\n",
            "Financial Condition    0\n",
            "Internet Type          0\n",
            "Network Type           0\n",
            "Class Duration         0\n",
            "Self Lms               0\n",
            "Device                 0\n",
            "Adaptivity Level       0\n",
            "dtype: int64\n",
            "       Gender    Age Education Level Institution Type IT Student Location  \\\n",
            "count    1205   1205            1205             1205       1205     1205   \n",
            "unique      2      6               3                2          2        2   \n",
            "top       Boy  21-25          School   Non Government         No      Yes   \n",
            "freq      663    374             530              823        901      935   \n",
            "\n",
            "       Load-shedding Financial Condition Internet Type Network Type  \\\n",
            "count           1205                1205          1205         1205   \n",
            "unique             2                   3             2            3   \n",
            "top              Low                 Mid   Mobile Data           4G   \n",
            "freq            1004                 878           695          775   \n",
            "\n",
            "       Class Duration Self Lms  Device Adaptivity Level  \n",
            "count            1205     1205    1205             1205  \n",
            "unique              3        2       3                3  \n",
            "top               1-3       No  Mobile         Moderate  \n",
            "freq              840      995    1013              625  \n"
          ]
        }
      ]
    },
    {
      "cell_type": "markdown",
      "source": [
        "### 3.  Data preparation\n",
        "\n"
      ],
      "metadata": {
        "id": "nQ-go8tfBLxt"
      }
    },
    {
      "cell_type": "markdown",
      "source": [
        "\n",
        "\n",
        "> #### di mana kita melakukan beberapa tahapan untuk mempersiapkan data sebelum dilakukan analisis. Pada kasus ini, kita melakukan beberapa hal seperti menghapus kolom yang tidak diperlukan, mengisi nilai yang hilang dengan rata-rata, dan mengubah nilai-nilai kategorikal menjadi numerik.\n",
        "\n"
      ],
      "metadata": {
        "id": "OZyk4IpKBnwn"
      }
    },
    {
      "cell_type": "code",
      "source": [
        "# Import library yang dibutuhkan\n",
        "import pandas as pd\n",
        "from sklearn.preprocessing import StandardScaler, LabelEncoder\n",
        "import seaborn as sns\n",
        "import matplotlib.pyplot as plt\n",
        "\n",
        "\n",
        "df = pd.read_csv('students_adaptability_level_online_education.csv')\n",
        "\n",
        "# Menghapus kolom yang tidak diperlukan\n",
        "df.drop(columns=[\"Location\", \"IT Student\", \"Age\", \"Internet Type\"], inplace=True)\n",
        "\n",
        "# Mengisi nilai yang hilang dengan rata-rata\n",
        "df.fillna(df.mean(), inplace=True)\n",
        "\n",
        "# Mengubah nilai-nilai kategorikal menjadi numerik\n",
        "df[\"Financial Condition\"] = df[\"Financial Condition\"].map({\"Rich\": 3, \"Mid\": 2, \"Poor\": 1})\n",
        "df[\"Education Level\"] = df[\"Education Level\"].map({\"University\": 3, \"College\": 2, \"School\": 1})\n",
        "df[\"Device\"] = df[\"Device\"].map({\"Tab\": 3, \"Mobile\": 2, \"Computer\": 1})\n",
        "df[\"Adaptivity Level\"] = df[\"Adaptivity Level\"].map({\"High\": 3, \"Moderate\": 2, \"Low\": 1})\n",
        "\n",
        "# Encoding kolom kategori menjadi numerik\n",
        "encoder = LabelEncoder()\n",
        "df[\"Institution Type\"] = encoder.fit_transform(df[\"Institution Type\"])\n",
        "df[\"Load-shedding\"] = encoder.fit_transform(df[\"Load-shedding\"])\n",
        "df[\"Financial Condition\"] = encoder.fit_transform(df[\"Financial Condition\"])\n",
        "df[\"Network Type\"] = encoder.fit_transform(df[\"Network Type\"])\n",
        "df[\"Class Duration\"] = encoder.fit_transform(df[\"Class Duration\"])\n",
        "df[\"Self Lms\"] = encoder.fit_transform(df[\"Self Lms\"])\n",
        "df[\"Gender\"] = encoder.fit_transform(df[\"Gender\"])\n",
        "\n",
        "# Melakukan analisis korelasi antar variabel\n",
        "corr = df.corr()\n",
        "sns.heatmap(corr, annot=True, cmap=\"YlGnBu\")\n",
        "plt.show()\n",
        "\n",
        "# Melakukan analisis distribusi variabel\n",
        "sns.displot(df[\"Adaptivity Level\"], kde=False)\n",
        "plt.show()\n",
        "\n",
        "# Menentukan variabel yang paling berpengaruh terhadap tingkat adaptabilitas siswa\n",
        "corr[\"Adaptivity Level\"].sort_values(ascending=False)\n",
        "\n",
        "\n",
        "# Scaling data dengan StandardScaler\n",
        "scaler = StandardScaler()\n",
        "df_scaled = scaler.fit_transform(df)\n",
        "\n",
        "# Memberikan saran untuk meningkatkan tingkat adaptabilitas siswa berdasarkan hasil analisis\n",
        "print(\"Saran untuk meningkatkan tingkat adaptabilitas siswa:\")\n",
        "print(\"- Memperbaiki akses internet\")\n",
        "print(\"- Meningkatkan motivasi diri\")\n",
        "print(\"- Menggunakan gaya belajar yang sesuai\")\n",
        "print(\"- Meningkatkan kemampuan pengambilan catatan\")\n",
        "print(\"- Mengembangkan manajemen waktu yang baik\")\n",
        "\n",
        "\n",
        "df\n"
      ],
      "metadata": {
        "id": "nJ06X8TrANRR",
        "colab": {
          "base_uri": "https://localhost:8080/",
          "height": 1000
        },
        "outputId": "781e3d57-70a9-4a86-d2f3-b17de8029994"
      },
      "execution_count": 3,
      "outputs": [
        {
          "output_type": "stream",
          "name": "stderr",
          "text": [
            "<ipython-input-3-e493e1937396>:14: FutureWarning: The default value of numeric_only in DataFrame.mean is deprecated. In a future version, it will default to False. In addition, specifying 'numeric_only=None' is deprecated. Select only valid columns or specify the value of numeric_only to silence this warning.\n",
            "  df.fillna(df.mean(), inplace=True)\n"
          ]
        },
        {
          "output_type": "display_data",
          "data": {
            "text/plain": [
              "<Figure size 640x480 with 2 Axes>"
            ],
            "image/png": "[encoded data removed]"
          },
          "metadata": {}
        },
        {
          "output_type": "display_data",
          "data": {
            "text/plain": [
              "<Figure size 500x500 with 1 Axes>"
            ],
            "image/png": "[encoded data removed]"
          },
          "metadata": {}
        },
        {
          "output_type": "stream",
          "name": "stdout",
          "text": [
            "Saran untuk meningkatkan tingkat adaptabilitas siswa:\n",
            "- Memperbaiki akses internet\n",
            "- Meningkatkan motivasi diri\n",
            "- Menggunakan gaya belajar yang sesuai\n",
            "- Meningkatkan kemampuan pengambilan catatan\n",
            "- Mengembangkan manajemen waktu yang baik\n"
          ]
        },
        {
          "output_type": "execute_result",
          "data": {
            "text/plain": [
              "      Gender  Education Level  Institution Type  Load-shedding  \\\n",
              "0          0                3                 1              1   \n",
              "1          1                3                 1              0   \n",
              "2          1                2                 0              1   \n",
              "3          1                1                 1              1   \n",
              "4          1                1                 1              1   \n",
              "...      ...              ...               ...            ...   \n",
              "1200       1                2                 1              1   \n",
              "1201       1                2                 1              0   \n",
              "1202       0                1                 1              1   \n",
              "1203       1                2                 1              1   \n",
              "1204       1                1                 1              1   \n",
              "\n",
              "      Financial Condition  Network Type  Class Duration  Self Lms  Device  \\\n",
              "0                       1             2               2         0       3   \n",
              "1                       1             2               1         1       2   \n",
              "2                       1             2               1         0       2   \n",
              "3                       1             2               1         0       2   \n",
              "4                       0             1               0         0       2   \n",
              "...                   ...           ...             ...       ...     ...   \n",
              "1200                    1             2               1         0       2   \n",
              "1201                    1             2               2         0       2   \n",
              "1202                    1             1               1         0       2   \n",
              "1203                    1             2               1         0       2   \n",
              "1204                    0             1               1         0       2   \n",
              "\n",
              "      Adaptivity Level  \n",
              "0                    2  \n",
              "1                    2  \n",
              "2                    2  \n",
              "3                    2  \n",
              "4                    1  \n",
              "...                ...  \n",
              "1200                 1  \n",
              "1201                 2  \n",
              "1202                 2  \n",
              "1203                 1  \n",
              "1204                 2  \n",
              "\n",
              "[1205 rows x 10 columns]"
            ],
            "text/html": [
              "\n",
              "  <div id=\"df-63549b55-7312-4e43-8a1c-9d669f189d69\">\n",
              "    <div class=\"colab-df-container\">\n",
              "      <div>\n",
              "<style scoped>\n",
              "    .dataframe tbody tr th:only-of-type {\n",
              "        vertical-align: middle;\n",
              "    }\n",
              "\n",
              "    .dataframe tbody tr th {\n",
              "        vertical-align: top;\n",
              "    }\n",
              "\n",
              "    .dataframe thead th {\n",
              "        text-align: right;\n",
              "    }\n",
              "</style>\n",
              "<table border=\"1\" class=\"dataframe\">\n",
              "  <thead>\n",
              "    <tr style=\"text-align: right;\">\n",
              "      <th></th>\n",
              "      <th>Gender</th>\n",
              "      <th>Education Level</th>\n",
              "      <th>Institution Type</th>\n",
              "      <th>Load-shedding</th>\n",
              "      <th>Financial Condition</th>\n",
              "      <th>Network Type</th>\n",
              "      <th>Class Duration</th>\n",
              "      <th>Self Lms</th>\n",
              "      <th>Device</th>\n",
              "      <th>Adaptivity Level</th>\n",
              "    </tr>\n",
              "  </thead>\n",
              "  <tbody>\n",
              "    <tr>\n",
              "      <th>0</th>\n",
              "      <td>0</td>\n",
              "      <td>3</td>\n",
              "      <td>1</td>\n",
              "      <td>1</td>\n",
              "      <td>1</td>\n",
              "      <td>2</td>\n",
              "      <td>2</td>\n",
              "      <td>0</td>\n",
              "      <td>3</td>\n",
              "      <td>2</td>\n",
              "    </tr>\n",
              "    <tr>\n",
              "      <th>1</th>\n",
              "      <td>1</td>\n",
              "      <td>3</td>\n",
              "      <td>1</td>\n",
              "      <td>0</td>\n",
              "      <td>1</td>\n",
              "      <td>2</td>\n",
              "      <td>1</td>\n",
              "      <td>1</td>\n",
              "      <td>2</td>\n",
              "      <td>2</td>\n",
              "    </tr>\n",
              "    <tr>\n",
              "      <th>2</th>\n",
              "      <td>1</td>\n",
              "      <td>2</td>\n",
              "      <td>0</td>\n",
              "      <td>1</td>\n",
              "      <td>1</td>\n",
              "      <td>2</td>\n",
              "      <td>1</td>\n",
              "      <td>0</td>\n",
              "      <td>2</td>\n",
              "      <td>2</td>\n",
              "    </tr>\n",
              "    <tr>\n",
              "      <th>3</th>\n",
              "      <td>1</td>\n",
              "      <td>1</td>\n",
              "      <td>1</td>\n",
              "      <td>1</td>\n",
              "      <td>1</td>\n",
              "      <td>2</td>\n",
              "      <td>1</td>\n",
              "      <td>0</td>\n",
              "      <td>2</td>\n",
              "      <td>2</td>\n",
              "    </tr>\n",
              "    <tr>\n",
              "      <th>4</th>\n",
              "      <td>1</td>\n",
              "      <td>1</td>\n",
              "      <td>1</td>\n",
              "      <td>1</td>\n",
              "      <td>0</td>\n",
              "      <td>1</td>\n",
              "      <td>0</td>\n",
              "      <td>0</td>\n",
              "      <td>2</td>\n",
              "      <td>1</td>\n",
              "    </tr>\n",
              "    <tr>\n",
              "      <th>...</th>\n",
              "      <td>...</td>\n",
              "      <td>...</td>\n",
              "      <td>...</td>\n",
              "      <td>...</td>\n",
              "      <td>...</td>\n",
              "      <td>...</td>\n",
              "      <td>...</td>\n",
              "      <td>...</td>\n",
              "      <td>...</td>\n",
              "      <td>...</td>\n",
              "    </tr>\n",
              "    <tr>\n",
              "      <th>1200</th>\n",
              "      <td>1</td>\n",
              "      <td>2</td>\n",
              "      <td>1</td>\n",
              "      <td>1</td>\n",
              "      <td>1</td>\n",
              "      <td>2</td>\n",
              "      <td>1</td>\n",
              "      <td>0</td>\n",
              "      <td>2</td>\n",
              "      <td>1</td>\n",
              "    </tr>\n",
              "    <tr>\n",
              "      <th>1201</th>\n",
              "      <td>1</td>\n",
              "      <td>2</td>\n",
              "      <td>1</td>\n",
              "      <td>0</td>\n",
              "      <td>1</td>\n",
              "      <td>2</td>\n",
              "      <td>2</td>\n",
              "      <td>0</td>\n",
              "      <td>2</td>\n",
              "      <td>2</td>\n",
              "    </tr>\n",
              "    <tr>\n",
              "      <th>1202</th>\n",
              "      <td>0</td>\n",
              "      <td>1</td>\n",
              "      <td>1</td>\n",
              "      <td>1</td>\n",
              "      <td>1</td>\n",
              "      <td>1</td>\n",
              "      <td>1</td>\n",
              "      <td>0</td>\n",
              "      <td>2</td>\n",
              "      <td>2</td>\n",
              "    </tr>\n",
              "    <tr>\n",
              "      <th>1203</th>\n",
              "      <td>1</td>\n",
              "      <td>2</td>\n",
              "      <td>1</td>\n",
              "      <td>1</td>\n",
              "      <td>1</td>\n",
              "      <td>2</td>\n",
              "      <td>1</td>\n",
              "      <td>0</td>\n",
              "      <td>2</td>\n",
              "      <td>1</td>\n",
              "    </tr>\n",
              "    <tr>\n",
              "      <th>1204</th>\n",
              "      <td>1</td>\n",
              "      <td>1</td>\n",
              "      <td>1</td>\n",
              "      <td>1</td>\n",
              "      <td>0</td>\n",
              "      <td>1</td>\n",
              "      <td>1</td>\n",
              "      <td>0</td>\n",
              "      <td>2</td>\n",
              "      <td>2</td>\n",
              "    </tr>\n",
              "  </tbody>\n",
              "</table>\n",
              "<p>1205 rows × 10 columns</p>\n",
              "</div>\n",
              "      <button class=\"colab-df-convert\" onclick=\"convertToInteractive('df-63549b55-7312-4e43-8a1c-9d669f189d69')\"\n",
              "              title=\"Convert this dataframe to an interactive table.\"\n",
              "              style=\"display:none;\">\n",
              "        \n",
              "  <svg xmlns=\"http://www.w3.org/2000/svg\" height=\"24px\"viewBox=\"0 0 24 24\"\n",
              "       width=\"24px\">\n",
              "    <path d=\"M0 0h24v24H0V0z\" fill=\"none\"/>\n",
              "    <path d=\"M18.56 5.44l.94 2.06.94-2.06 2.06-.94-2.06-.94-.94-2.06-.94 2.06-2.06.94zm-11 1L8.5 8.5l.94-2.06 2.06-.94-2.06-.94L8.5 2.5l-.94 2.06-2.06.94zm10 10l.94 2.06.94-2.06 2.06-.94-2.06-.94-.94-2.06-.94 2.06-2.06.94z\"/><path d=\"M17.41 7.96l-1.37-1.37c-.4-.4-.92-.59-1.43-.59-.52 0-1.04.2-1.43.59L10.3 9.45l-7.72 7.72c-.78.78-.78 2.05 0 2.83L4 21.41c.39.39.9.59 1.41.59.51 0 1.02-.2 1.41-.59l7.78-7.78 2.81-2.81c.8-.78.8-2.07 0-2.86zM5.41 20L4 18.59l7.72-7.72 1.47 1.35L5.41 20z\"/>\n",
              "  </svg>\n",
              "      </button>\n",
              "      \n",
              "  <style>\n",
              "    .colab-df-container {\n",
              "      display:flex;\n",
              "      flex-wrap:wrap;\n",
              "      gap: 12px;\n",
              "    }\n",
              "\n",
              "    .colab-df-convert {\n",
              "      background-color: #E8F0FE;\n",
              "      border: none;\n",
              "      border-radius: 50%;\n",
              "      cursor: pointer;\n",
              "      display: none;\n",
              "      fill: #1967D2;\n",
              "      height: 32px;\n",
              "      padding: 0 0 0 0;\n",
              "      width: 32px;\n",
              "    }\n",
              "\n",
              "    .colab-df-convert:hover {\n",
              "      background-color: #E2EBFA;\n",
              "      box-shadow: 0px 1px 2px rgba(60, 64, 67, 0.3), 0px 1px 3px 1px rgba(60, 64, 67, 0.15);\n",
              "      fill: #174EA6;\n",
              "    }\n",
              "\n",
              "    [theme=dark] .colab-df-convert {\n",
              "      background-color: #3B4455;\n",
              "      fill: #D2E3FC;\n",
              "    }\n",
              "\n",
              "    [theme=dark] .colab-df-convert:hover {\n",
              "      background-color: #434B5C;\n",
              "      box-shadow: 0px 1px 3px 1px rgba(0, 0, 0, 0.15);\n",
              "      filter: drop-shadow(0px 1px 2px rgba(0, 0, 0, 0.3));\n",
              "      fill: #FFFFFF;\n",
              "    }\n",
              "  </style>\n",
              "\n",
              "      <script>\n",
              "        const buttonEl =\n",
              "          document.querySelector('#df-63549b55-7312-4e43-8a1c-9d669f189d69 button.colab-df-convert');\n",
              "        buttonEl.style.display =\n",
              "          google.colab.kernel.accessAllowed ? 'block' : 'none';\n",
              "\n",
              "        async function convertToInteractive(key) {\n",
              "          const element = document.querySelector('#df-63549b55-7312-4e43-8a1c-9d669f189d69');\n",
              "          const dataTable =\n",
              "            await google.colab.kernel.invokeFunction('convertToInteractive',\n",
              "                                                     [key], {});\n",
              "          if (!dataTable) return;\n",
              "\n",
              "          const docLinkHtml = 'Like what you see? Visit the ' +\n",
              "            '<a target=\"_blank\" href=https://colab.research.google.com/notebooks/data_table.ipynb>data table notebook</a>'\n",
              "            + ' to learn more about interactive tables.';\n",
              "          element.innerHTML = '';\n",
              "          dataTable['output_type'] = 'display_data';\n",
              "          await google.colab.output.renderOutput(dataTable, element);\n",
              "          const docLink = document.createElement('div');\n",
              "          docLink.innerHTML = docLinkHtml;\n",
              "          element.appendChild(docLink);\n",
              "        }\n",
              "      </script>\n",
              "    </div>\n",
              "  </div>\n",
              "  "
            ]
          },
          "metadata": {},
          "execution_count": 3
        }
      ]
    },
    {
      "cell_type": "markdown",
      "source": [],
      "metadata": {
        "id": "doIzvLcrlfdg"
      }
    },
    {
      "cell_type": "markdown",
      "source": [
        "### 4. Data Modelling\n"
      ],
      "metadata": {
        "id": "DGmGgSKYljIg"
      }
    },
    {
      "cell_type": "markdown",
      "source": [
        "#### Naive Baiyes "
      ],
      "metadata": {
        "id": "JTYrZMnScyLo"
      }
    },
    {
      "cell_type": "code",
      "source": [
        "import pandas as pd\n",
        "from sklearn.model_selection import train_test_split\n",
        "from sklearn.naive_bayes import GaussianNB\n",
        "from sklearn.metrics import accuracy_score\n",
        "\n",
        "# df.info()\n",
        "df\n",
        "# Split dataset into features and target\n",
        "X = df.drop('Gender', axis=1)\n",
        "y = df['Gender']\n",
        "\n",
        "# Split dataset into training and testing set\n",
        "X_train, X_test, y_train, y_test = train_test_split(X, y, test_size=0.2, random_state=42)\n",
        "\n",
        "# Train Naive Bayes model\n",
        "gnb = GaussianNB()\n",
        "gnb.fit(X_train, y_train)\n",
        "\n",
        "# Make predictions on test set\n",
        "y_pred = gnb.predict(X_test)\n",
        "\n",
        "# Evaluate model accuracy\n",
        "accuracy = accuracy_score(y_test, y_pred)\n",
        "print('Model accuracy:', accuracy)\n"
      ],
      "metadata": {
        "id": "kxlhqlkeSIOZ",
        "colab": {
          "base_uri": "https://localhost:8080/"
        },
        "outputId": "302189d6-5685-45d7-9fae-3a48c150acb4"
      },
      "execution_count": 4,
      "outputs": [
        {
          "output_type": "stream",
          "name": "stdout",
          "text": [
            "Model accuracy: 0.5726141078838174\n"
          ]
        }
      ]
    },
    {
      "cell_type": "markdown",
      "source": [
        "#### C.45"
      ],
      "metadata": {
        "id": "NBMH8nTzoHHe"
      }
    },
    {
      "cell_type": "code",
      "source": [
        "# Import Libray\n",
        "import numpy as np\n",
        "import matplotlib.pyplot as plt\n",
        "import pandas as pd\n",
        "from sklearn.tree import DecisionTreeClassifier\n",
        "\n",
        "# Pisahkan atribut (fitur) dan label dari dataset\n",
        "X = df.drop('Adaptivity Level', axis=1)\n",
        "y = df['Adaptivity Level']\n",
        "\n",
        "# Ubah data kategorikal menjadi numerik menggunakan teknik one-hot encoding\n",
        "X = pd.get_dummies(X)\n",
        "\n",
        "# Split dataset menjadi data training dan data testing\n",
        "from sklearn.model_selection import train_test_split\n",
        "X_train, X_test, y_train, y_test = train_test_split(X, y, test_size=0.2, random_state=1)\n",
        "\n",
        "# Buat objek DecisionTreeClassifier dan lakukan training pada data training\n",
        "clf = DecisionTreeClassifier(criterion=\"entropy\")\n",
        "clf.fit(X_train, y_train)\n",
        "\n",
        "# Lakukan prediksi data testing\n",
        "y_pred = clf.predict(X_test)\n",
        "\n",
        "# Evaluasi performa model dengan menggunakan metrik akurasi\n",
        "from sklearn.metrics import accuracy_score\n",
        "accuracy = accuracy_score(y_test, y_pred)\n",
        "print(\"Akurasi model: \", accuracy)\n"
      ],
      "metadata": {
        "id": "h6gxGbz4obSb",
        "colab": {
          "base_uri": "https://localhost:8080/"
        },
        "outputId": "d6878610-1ab1-4436-93ef-82f4b327e318"
      },
      "execution_count": 5,
      "outputs": [
        {
          "output_type": "stream",
          "name": "stdout",
          "text": [
            "Akurasi model:  0.8215767634854771\n"
          ]
        }
      ]
    },
    {
      "cell_type": "code",
      "source": [
        "# Prediksi menggunakan algoritma C4.5\n",
        "new_data = {'Gender': 2, 'Education Level': 2, 'Institution Type': 3,'Load-shedding': 2,'Financial Condition': 1, 'Network Type': 1,'Class Duration': 1, 'Self Lms': 0 ,'Device': 2 }\n",
        "new_data_df = pd.DataFrame(new_data, index=[0])\n",
        "new_data_df = pd.get_dummies(new_data_df)\n",
        "prediction = clf.predict(new_data_df)\n",
        "print(\"Prediksi Adaptivity Level =\", prediction[0])"
      ],
      "metadata": {
        "id": "39pWNM7uodSJ",
        "colab": {
          "base_uri": "https://localhost:8080/"
        },
        "outputId": "3a4ebdf2-12fb-40bf-db2e-eb0c066751f5"
      },
      "execution_count": 6,
      "outputs": [
        {
          "output_type": "stream",
          "name": "stdout",
          "text": [
            "Prediksi Adaptivity Level = 2\n"
          ]
        }
      ]
    },
    {
      "cell_type": "markdown",
      "source": [
        "#### KNN"
      ],
      "metadata": {
        "id": "XRKwSnD0JD2N"
      }
    },
    {
      "cell_type": "code",
      "source": [
        "import pandas as pd\n",
        "import numpy as np\n",
        "import math\n",
        "\n",
        "\n",
        "# Split dataset into features (X) and labels (y)\n",
        "X = df.iloc[:, :-1].values\n",
        "y = df.iloc[:, -1].values\n",
        "\n",
        "# Normalize the features\n",
        "for i in range(X.shape[1]):\n",
        "    X[:, i] = (X[:, i] - np.min(X[:, i])) / (np.max(X[:, i]) - np.min(X[:, i]))\n",
        "\n",
        "# Define KNN function\n",
        "def knn_predict(X_train, y_train, X_test, k):\n",
        "    y_pred = []\n",
        "    for i in range(len(X_test)):\n",
        "        distances = []\n",
        "        for j in range(len(X_train)):\n",
        "            dist = math.sqrt(sum([(X_test[i][m] - X_train[j][m]) ** 2 for m in range(len(X_test[i]))]))\n",
        "            distances.append((dist, j))\n",
        "        distances.sort()\n",
        "        neighbors = [y_train[distances[m][1]] for m in range(k)]\n",
        "        y_pred.append(max(set(neighbors), key=neighbors.count))\n",
        "    return y_pred\n",
        "\n",
        "# Split dataset into training set and testing set\n",
        "train_size = int(0.7 * len(X))\n",
        "X_train, y_train = X[:train_size], y[:train_size]\n",
        "X_test, y_test = X[train_size:], y[train_size:]\n",
        "\n",
        "# Predict using KNN with k=3\n",
        "y_pred = knn_predict(X_train, y_train, X_test, 3)\n",
        "\n",
        "# Print accuracy score\n",
        "accuracy = sum(y_pred == y_test) / len(y_test)\n",
        "print(f'Accuracy: {accuracy:.2f}')\n"
      ],
      "metadata": {
        "id": "fHN_1sljJHZD",
        "colab": {
          "base_uri": "https://localhost:8080/"
        },
        "outputId": "dea11037-8eeb-4fb5-b243-a0e340ecc725"
      },
      "execution_count": 7,
      "outputs": [
        {
          "output_type": "stream",
          "name": "stdout",
          "text": [
            "Accuracy: 0.65\n"
          ]
        }
      ]
    },
    {
      "cell_type": "markdown",
      "source": [
        "#### Modelling Data "
      ],
      "metadata": {
        "id": "UhwKmQq3nWhH"
      }
    },
    {
      "cell_type": "code",
      "source": [
        "# Import library yang dibutuhkan\n",
        "import pandas as pd\n",
        "from sklearn.model_selection import train_test_split\n",
        "from sklearn.tree import DecisionTreeClassifier\n",
        "from sklearn.metrics import classification_report, confusion_matrix\n",
        "import joblib\n",
        "import matplotlib.pyplot as plt\n",
        "from sklearn.metrics import accuracy_score, precision_score, recall_score, f1_score, confusion_matrix\n",
        "from sklearn.linear_model import LogisticRegression\n",
        "\n",
        "# Memisahkan variabel target dan variabel independent\n",
        "X = df.drop('Adaptivity Level', axis=1)\n",
        "y = df['Adaptivity Level']\n",
        "\n",
        "# Membagi data menjadi training dan testing set\n",
        "X_train, X_test, y_train, y_test = train_test_split(X, y, test_size=0.2, random_state=0)\n",
        "\n",
        "# Melatih model logistic regression\n",
        "model = LogisticRegression()\n",
        "model.fit(X_train, y_train)\n",
        "\n",
        "# Memprediksi nilai adaptabilitas pada data uji\n",
        "y_pred = model.predict(X_test)\n",
        "\n",
        "# Mengevaluasi performa model\n",
        "accuracy = accuracy_score(y_test, y_pred)\n",
        "precision = precision_score(y_test, y_pred, average=\"macro\")\n",
        "recall = recall_score(y_test, y_pred, average=\"macro\")\n",
        "f1 = f1_score(y_test, y_pred, average=\"macro\")\n",
        "cm = confusion_matrix(y_test, y_pred)\n",
        "\n",
        "# Menampilkan hasil evaluasi\n",
        "print(\"Accuracy: \", accuracy)\n",
        "print(\"Precision: \", precision)\n",
        "print(\"Recall: \", recall)\n",
        "print(\"F1 Score: \", f1)\n",
        "print(\"Confusion Matrix: \")\n",
        "print(cm)\n"
      ],
      "metadata": {
        "id": "bnXo5uii4J7a",
        "colab": {
          "base_uri": "https://localhost:8080/"
        },
        "outputId": "fe3b215b-09b1-4c7d-a4a6-b70560575ac3"
      },
      "execution_count": 19,
      "outputs": [
        {
          "output_type": "stream",
          "name": "stdout",
          "text": [
            "Accuracy:  0.6348547717842323\n",
            "Precision:  0.621103896103896\n",
            "Recall:  0.5132574397280281\n",
            "F1 Score:  0.5343090725699422\n",
            "Confusion Matrix: \n",
            "[[54 48  2]\n",
            " [23 95  1]\n",
            " [ 3 11  4]]\n"
          ]
        }
      ]
    },
    {
      "cell_type": "markdown",
      "source": [
        "Dari hasil data modelling dengan menggunakan logistic regression tersebut, didapatkan nilai akurasi sebesar 0.63 yang berarti model dapat memprediksi adaptabilitas dengan tepat sebesar 63%.\n",
        "\n",
        "Sementara itu, nilai precision yang didapatkan adalah 0.62 yang berarti kemampuan model dalam mengenali nilai adaptabilitas yang sebenarnya dalam kelas tertentu cukup baik. Namun, nilai recall nya sebesar 0.51, yang berarti kemampuan model dalam mengenali keseluruhan nilai adaptabilitas masih perlu ditingkatkan. Selain itu, F1 Score nya sebesar 0.53 yang menunjukkan keseimbangan antara precision dan recall.\n",
        "\n",
        "Berdasarkan confusion matrix yang dihasilkan, dapat dilihat bahwa model dapat memprediksi kelas 1 (adaptabilitas tinggi) dengan cukup baik. Namun, model masih mengalami kesulitan dalam memprediksi kelas 2 dan kelas 3, terlihat dari jumlah false negative dan false positive yang cukup besar di kedua kelas tersebut. Oleh karena itu, model perlu diperbaiki agar kemampuan dalam memprediksi kelas tersebut dapat ditingkatkan."
      ],
      "metadata": {
        "id": "q1ZennAmnfaS"
      }
    },
    {
      "cell_type": "markdown",
      "source": [
        "### 5. Data Evalution\n",
        "\n",
        "\n"
      ],
      "metadata": {
        "id": "PG0D-psBwXsv"
      }
    },
    {
      "cell_type": "markdown",
      "source": [
        "Berdasarkan hasil evaluasi pada data modelling di atas, model Logistic Regression yang telah dilatih menghasilkan akurasi sebesar 0.634 atau 63.4%, artinya sekitar 63.4% data pada testing set berhasil diprediksi dengan benar oleh model. Selain itu, precision score sebesar 0.621 dan recall score sebesar 0.513 menunjukkan model cenderung lebih baik dalam memprediksi nilai positif (Adaptivity Level 1 dan 2) daripada nilai negatif (Adaptivity Level 0). F1 score sebesar 0.534 mengindikasikan nilai rata-rata harmonik dari precision dan recall.\n",
        "\n",
        "Dalam hal confusion matrix, model mengklasifikasikan 54 data dengan benar sebagai Adaptivity Level 0, 95 data dengan benar sebagai Adaptivity Level 1, dan 4 data dengan benar sebagai Adaptivity Level 2. Namun, model juga salah mengklasifikasikan 23 data Adaptivity Level 0 sebagai Adaptivity Level 1, 48 data Adaptivity Level 1 sebagai Adaptivity Level 0, 11 data Adaptivity Level 2 sebagai Adaptivity Level 1, dan 2 data Adaptivity Level 0 sebagai Adaptivity Level 2."
      ],
      "metadata": {
        "id": "Y04VsiC3mCeg"
      }
    },
    {
      "cell_type": "markdown",
      "source": [
        "### 6. Deployment"
      ],
      "metadata": {
        "id": "ZnvQPX3ozYh-"
      }
    },
    {
      "cell_type": "code",
      "source": [
        "import pandas as pd\n",
        "\n",
        "# Membuat data deployment\n",
        "data = {'Gender': [0, 1, 1, 1, 1],\n",
        "        'Age': [4, 4, 3, 2, 3],\n",
        "        'Education Level': [3, 3, 2, 1, 1],\n",
        "        'Institution Type': [1, 1, 2, 1, 1],\n",
        "        'Load-shedding': [1, 0, 1, 1, 1],\n",
        "        'Financial Condition': [1, 1, 1, 1, 0],\n",
        "        'Internet Type': [1, 0, 1, 0, 0],\n",
        "        'Network Type': [2, 2, 2, 2, 1],\n",
        "        'Class Duration': [2, 2, 2, 2, 1],\n",
        "        'Self Lms': [0, 1, 1, 1, 0],\n",
        "        'Device': [3, 2, 2, 2, 2]}\n",
        "\n",
        "df_deployment = pd.DataFrame(data)\n",
        "\n",
        "# Menampilkan data deployment\n",
        "print(df_deployment.head())\n",
        "\n",
        "\n",
        "# taruh dataframe kedalam dataset baru\n",
        "df.to_csv('students_adaptability_level_online_education-Deplyoment.csv', index=False)"
      ],
      "metadata": {
        "id": "FNKeodUX2Rdd",
        "colab": {
          "base_uri": "https://localhost:8080/"
        },
        "outputId": "94328061-413e-4526-b5b7-5d86dd740b6c"
      },
      "execution_count": 11,
      "outputs": [
        {
          "output_type": "stream",
          "name": "stdout",
          "text": [
            "   Gender  Age  Education Level  Institution Type  Load-shedding  \\\n",
            "0       0    4                3                 1              1   \n",
            "1       1    4                3                 1              0   \n",
            "2       1    3                2                 2              1   \n",
            "3       1    2                1                 1              1   \n",
            "4       1    3                1                 1              1   \n",
            "\n",
            "   Financial Condition  Internet Type  Network Type  Class Duration  Self Lms  \\\n",
            "0                    1              1             2               2         0   \n",
            "1                    1              0             2               2         1   \n",
            "2                    1              1             2               2         1   \n",
            "3                    1              0             2               2         1   \n",
            "4                    0              0             1               1         0   \n",
            "\n",
            "   Device  \n",
            "0       3  \n",
            "1       2  \n",
            "2       2  \n",
            "3       2  \n",
            "4       2  \n"
          ]
        }
      ]
    },
    {
      "cell_type": "markdown",
      "source": [
        "Data deployment ini terdiri dari tiga data, masing-masing merepresentasikan satu observasi. Setiap observasi memiliki nilai-nilai pada kolom Gender, Age, Education Level, Institution Type, Load-shedding, Financial Condition, Internet Type, Network Type, Class Duration, Self Lms, dan Device. Data ini nantinya dapat digunakan untuk melakukan prediksi nilai Adaptivity Level menggunakan model yang telah dilatih pada dataset sebelumnya."
      ],
      "metadata": {
        "id": "wmIBRqaQ2maR"
      }
    },
    {
      "cell_type": "code",
      "source": [
        "df = pd.read_csv('students_adaptability_level_online_education-Deplyoment.csv')\n",
        "\n",
        "\n",
        "df"
      ],
      "metadata": {
        "id": "aFbHD-r7OZxM",
        "colab": {
          "base_uri": "https://localhost:8080/",
          "height": 424
        },
        "outputId": "3ce66cd2-62ef-4dfd-8cde-7d821824e1e5"
      },
      "execution_count": 12,
      "outputs": [
        {
          "output_type": "execute_result",
          "data": {
            "text/plain": [
              "      Gender  Education Level  Institution Type  Load-shedding  \\\n",
              "0          0                1                 1              1   \n",
              "1          1                1                 1              0   \n",
              "2          1                0                 0              1   \n",
              "3          1                0                 1              1   \n",
              "4          1                0                 1              1   \n",
              "...      ...              ...               ...            ...   \n",
              "1200       1                0                 1              1   \n",
              "1201       1                0                 1              0   \n",
              "1202       0                0                 1              1   \n",
              "1203       1                0                 1              1   \n",
              "1204       1                0                 1              1   \n",
              "\n",
              "      Financial Condition  Network Type  Class Duration  Self Lms  Device  \\\n",
              "0                       0             1               1         0       1   \n",
              "1                       0             1               0         1       0   \n",
              "2                       0             1               0         0       0   \n",
              "3                       0             1               0         0       0   \n",
              "4                       0             0               0         0       0   \n",
              "...                   ...           ...             ...       ...     ...   \n",
              "1200                    0             1               0         0       0   \n",
              "1201                    0             1               1         0       0   \n",
              "1202                    0             0               0         0       0   \n",
              "1203                    0             1               0         0       0   \n",
              "1204                    0             0               0         0       0   \n",
              "\n",
              "      Adaptivity Level  \n",
              "0                    2  \n",
              "1                    2  \n",
              "2                    2  \n",
              "3                    2  \n",
              "4                    1  \n",
              "...                ...  \n",
              "1200                 1  \n",
              "1201                 2  \n",
              "1202                 2  \n",
              "1203                 1  \n",
              "1204                 2  \n",
              "\n",
              "[1205 rows x 10 columns]"
            ],
            "text/html": [
              "\n",
              "  <div id=\"df-70a2c330-1965-45a6-b8c4-cf6563637eaa\">\n",
              "    <div class=\"colab-df-container\">\n",
              "      <div>\n",
              "<style scoped>\n",
              "    .dataframe tbody tr th:only-of-type {\n",
              "        vertical-align: middle;\n",
              "    }\n",
              "\n",
              "    .dataframe tbody tr th {\n",
              "        vertical-align: top;\n",
              "    }\n",
              "\n",
              "    .dataframe thead th {\n",
              "        text-align: right;\n",
              "    }\n",
              "</style>\n",
              "<table border=\"1\" class=\"dataframe\">\n",
              "  <thead>\n",
              "    <tr style=\"text-align: right;\">\n",
              "      <th></th>\n",
              "      <th>Gender</th>\n",
              "      <th>Education Level</th>\n",
              "      <th>Institution Type</th>\n",
              "      <th>Load-shedding</th>\n",
              "      <th>Financial Condition</th>\n",
              "      <th>Network Type</th>\n",
              "      <th>Class Duration</th>\n",
              "      <th>Self Lms</th>\n",
              "      <th>Device</th>\n",
              "      <th>Adaptivity Level</th>\n",
              "    </tr>\n",
              "  </thead>\n",
              "  <tbody>\n",
              "    <tr>\n",
              "      <th>0</th>\n",
              "      <td>0</td>\n",
              "      <td>1</td>\n",
              "      <td>1</td>\n",
              "      <td>1</td>\n",
              "      <td>0</td>\n",
              "      <td>1</td>\n",
              "      <td>1</td>\n",
              "      <td>0</td>\n",
              "      <td>1</td>\n",
              "      <td>2</td>\n",
              "    </tr>\n",
              "    <tr>\n",
              "      <th>1</th>\n",
              "      <td>1</td>\n",
              "      <td>1</td>\n",
              "      <td>1</td>\n",
              "      <td>0</td>\n",
              "      <td>0</td>\n",
              "      <td>1</td>\n",
              "      <td>0</td>\n",
              "      <td>1</td>\n",
              "      <td>0</td>\n",
              "      <td>2</td>\n",
              "    </tr>\n",
              "    <tr>\n",
              "      <th>2</th>\n",
              "      <td>1</td>\n",
              "      <td>0</td>\n",
              "      <td>0</td>\n",
              "      <td>1</td>\n",
              "      <td>0</td>\n",
              "      <td>1</td>\n",
              "      <td>0</td>\n",
              "      <td>0</td>\n",
              "      <td>0</td>\n",
              "      <td>2</td>\n",
              "    </tr>\n",
              "    <tr>\n",
              "      <th>3</th>\n",
              "      <td>1</td>\n",
              "      <td>0</td>\n",
              "      <td>1</td>\n",
              "      <td>1</td>\n",
              "      <td>0</td>\n",
              "      <td>1</td>\n",
              "      <td>0</td>\n",
              "      <td>0</td>\n",
              "      <td>0</td>\n",
              "      <td>2</td>\n",
              "    </tr>\n",
              "    <tr>\n",
              "      <th>4</th>\n",
              "      <td>1</td>\n",
              "      <td>0</td>\n",
              "      <td>1</td>\n",
              "      <td>1</td>\n",
              "      <td>0</td>\n",
              "      <td>0</td>\n",
              "      <td>0</td>\n",
              "      <td>0</td>\n",
              "      <td>0</td>\n",
              "      <td>1</td>\n",
              "    </tr>\n",
              "    <tr>\n",
              "      <th>...</th>\n",
              "      <td>...</td>\n",
              "      <td>...</td>\n",
              "      <td>...</td>\n",
              "      <td>...</td>\n",
              "      <td>...</td>\n",
              "      <td>...</td>\n",
              "      <td>...</td>\n",
              "      <td>...</td>\n",
              "      <td>...</td>\n",
              "      <td>...</td>\n",
              "    </tr>\n",
              "    <tr>\n",
              "      <th>1200</th>\n",
              "      <td>1</td>\n",
              "      <td>0</td>\n",
              "      <td>1</td>\n",
              "      <td>1</td>\n",
              "      <td>0</td>\n",
              "      <td>1</td>\n",
              "      <td>0</td>\n",
              "      <td>0</td>\n",
              "      <td>0</td>\n",
              "      <td>1</td>\n",
              "    </tr>\n",
              "    <tr>\n",
              "      <th>1201</th>\n",
              "      <td>1</td>\n",
              "      <td>0</td>\n",
              "      <td>1</td>\n",
              "      <td>0</td>\n",
              "      <td>0</td>\n",
              "      <td>1</td>\n",
              "      <td>1</td>\n",
              "      <td>0</td>\n",
              "      <td>0</td>\n",
              "      <td>2</td>\n",
              "    </tr>\n",
              "    <tr>\n",
              "      <th>1202</th>\n",
              "      <td>0</td>\n",
              "      <td>0</td>\n",
              "      <td>1</td>\n",
              "      <td>1</td>\n",
              "      <td>0</td>\n",
              "      <td>0</td>\n",
              "      <td>0</td>\n",
              "      <td>0</td>\n",
              "      <td>0</td>\n",
              "      <td>2</td>\n",
              "    </tr>\n",
              "    <tr>\n",
              "      <th>1203</th>\n",
              "      <td>1</td>\n",
              "      <td>0</td>\n",
              "      <td>1</td>\n",
              "      <td>1</td>\n",
              "      <td>0</td>\n",
              "      <td>1</td>\n",
              "      <td>0</td>\n",
              "      <td>0</td>\n",
              "      <td>0</td>\n",
              "      <td>1</td>\n",
              "    </tr>\n",
              "    <tr>\n",
              "      <th>1204</th>\n",
              "      <td>1</td>\n",
              "      <td>0</td>\n",
              "      <td>1</td>\n",
              "      <td>1</td>\n",
              "      <td>0</td>\n",
              "      <td>0</td>\n",
              "      <td>0</td>\n",
              "      <td>0</td>\n",
              "      <td>0</td>\n",
              "      <td>2</td>\n",
              "    </tr>\n",
              "  </tbody>\n",
              "</table>\n",
              "<p>1205 rows × 10 columns</p>\n",
              "</div>\n",
              "      <button class=\"colab-df-convert\" onclick=\"convertToInteractive('df-70a2c330-1965-45a6-b8c4-cf6563637eaa')\"\n",
              "              title=\"Convert this dataframe to an interactive table.\"\n",
              "              style=\"display:none;\">\n",
              "        \n",
              "  <svg xmlns=\"http://www.w3.org/2000/svg\" height=\"24px\"viewBox=\"0 0 24 24\"\n",
              "       width=\"24px\">\n",
              "    <path d=\"M0 0h24v24H0V0z\" fill=\"none\"/>\n",
              "    <path d=\"M18.56 5.44l.94 2.06.94-2.06 2.06-.94-2.06-.94-.94-2.06-.94 2.06-2.06.94zm-11 1L8.5 8.5l.94-2.06 2.06-.94-2.06-.94L8.5 2.5l-.94 2.06-2.06.94zm10 10l.94 2.06.94-2.06 2.06-.94-2.06-.94-.94-2.06-.94 2.06-2.06.94z\"/><path d=\"M17.41 7.96l-1.37-1.37c-.4-.4-.92-.59-1.43-.59-.52 0-1.04.2-1.43.59L10.3 9.45l-7.72 7.72c-.78.78-.78 2.05 0 2.83L4 21.41c.39.39.9.59 1.41.59.51 0 1.02-.2 1.41-.59l7.78-7.78 2.81-2.81c.8-.78.8-2.07 0-2.86zM5.41 20L4 18.59l7.72-7.72 1.47 1.35L5.41 20z\"/>\n",
              "  </svg>\n",
              "      </button>\n",
              "      \n",
              "  <style>\n",
              "    .colab-df-container {\n",
              "      display:flex;\n",
              "      flex-wrap:wrap;\n",
              "      gap: 12px;\n",
              "    }\n",
              "\n",
              "    .colab-df-convert {\n",
              "      background-color: #E8F0FE;\n",
              "      border: none;\n",
              "      border-radius: 50%;\n",
              "      cursor: pointer;\n",
              "      display: none;\n",
              "      fill: #1967D2;\n",
              "      height: 32px;\n",
              "      padding: 0 0 0 0;\n",
              "      width: 32px;\n",
              "    }\n",
              "\n",
              "    .colab-df-convert:hover {\n",
              "      background-color: #E2EBFA;\n",
              "      box-shadow: 0px 1px 2px rgba(60, 64, 67, 0.3), 0px 1px 3px 1px rgba(60, 64, 67, 0.15);\n",
              "      fill: #174EA6;\n",
              "    }\n",
              "\n",
              "    [theme=dark] .colab-df-convert {\n",
              "      background-color: #3B4455;\n",
              "      fill: #D2E3FC;\n",
              "    }\n",
              "\n",
              "    [theme=dark] .colab-df-convert:hover {\n",
              "      background-color: #434B5C;\n",
              "      box-shadow: 0px 1px 3px 1px rgba(0, 0, 0, 0.15);\n",
              "      filter: drop-shadow(0px 1px 2px rgba(0, 0, 0, 0.3));\n",
              "      fill: #FFFFFF;\n",
              "    }\n",
              "  </style>\n",
              "\n",
              "      <script>\n",
              "        const buttonEl =\n",
              "          document.querySelector('#df-70a2c330-1965-45a6-b8c4-cf6563637eaa button.colab-df-convert');\n",
              "        buttonEl.style.display =\n",
              "          google.colab.kernel.accessAllowed ? 'block' : 'none';\n",
              "\n",
              "        async function convertToInteractive(key) {\n",
              "          const element = document.querySelector('#df-70a2c330-1965-45a6-b8c4-cf6563637eaa');\n",
              "          const dataTable =\n",
              "            await google.colab.kernel.invokeFunction('convertToInteractive',\n",
              "                                                     [key], {});\n",
              "          if (!dataTable) return;\n",
              "\n",
              "          const docLinkHtml = 'Like what you see? Visit the ' +\n",
              "            '<a target=\"_blank\" href=https://colab.research.google.com/notebooks/data_table.ipynb>data table notebook</a>'\n",
              "            + ' to learn more about interactive tables.';\n",
              "          element.innerHTML = '';\n",
              "          dataTable['output_type'] = 'display_data';\n",
              "          await google.colab.output.renderOutput(dataTable, element);\n",
              "          const docLink = document.createElement('div');\n",
              "          docLink.innerHTML = docLinkHtml;\n",
              "          element.appendChild(docLink);\n",
              "        }\n",
              "      </script>\n",
              "    </div>\n",
              "  </div>\n",
              "  "
            ]
          },
          "metadata": {},
          "execution_count": 12
        }
      ]
    },
    {
      "cell_type": "code",
      "source": [
        "# Link Looker studio\n",
        "https://lookerstudio.google.com/u/0/reporting/843e897d-f8ab-4773-b77f-47ec8a2291f3/page/HsOPD"
      ],
      "metadata": {
        "id": "f8Dnoiiabb72"
      },
      "execution_count": null,
      "outputs": []
    },
    {
      "cell_type": "markdown",
      "source": [
        "\n",
        "\n",
        "# 2. Analisis CRISP-DM UnSupervised Data"
      ],
      "metadata": {
        "id": "0ORHRZ5YaGyc"
      }
    },
    {
      "cell_type": "markdown",
      "source": [
        "## 1. Business Understanding\n",
        "\n",
        "* Prediksi Tingkat Prestasi Akademik: Dataset ini dapat digunakan untuk membangun model prediksi yang dapat memperkirakan tingkat prestasi akademik atau level siswa berdasarkan atribut-atribut yang diberikan. Informasi seperti usia, jenis kelamin, penghasilan orang tua, dan jumlah anggota keluarga dapat digunakan sebagai fitur untuk memprediksi tingkat prestasi akademik siswa, yang dapat membantu lembaga pendidikan atau penyedia layanan pendidikan dalam mengidentifikasi siswa yang berpotensi membutuhkan dukungan tambahan atau mengambil tindakan pencegahan dini terhadap siswa yang berisiko.\n",
        "\n",
        "* Identifikasi Faktor-faktor yang Mempengaruhi Prestasi Akademik: Dataset ini juga dapat digunakan untuk melakukan analisis eksploratif untuk mengidentifikasi faktor-faktor yang mempengaruhi prestasi akademik siswa. Misalnya, dapat dilakukan analisis untuk melihat hubungan antara usia atau penghasilan orang tua dengan tingkat prestasi akademik siswa, atau bagaimana faktor-faktor lain seperti jenis kelamin atau jumlah anggota keluarga dapat berdampak pada tingkat prestasi akademik siswa.\n",
        "\n",
        "* Segmentasi Siswa: Dataset ini dapat digunakan untuk melakukan segmentasi siswa berdasarkan karakteristik yang diberikan, seperti usia, jenis kelamin, penghasilan orang tua, dan jumlah anggota keluarga. Segmentasi siswa ini dapat membantu lembaga pendidikan atau penyedia layanan pendidikan dalam memahami profil siswa yang berbeda-beda, serta merancang strategi pemasaran atau program pendidikan yang sesuai untuk setiap segmen.\n",
        "\n",
        "* Pengambilan Keputusan Berbasis Data: Dataset ini dapat digunakan sebagai dasar untuk pengambilan keputusan berbasis data dalam konteks pendidikan. Dengan memanfaatkan data yang ada, lembaga pendidikan atau penyedia layanan pendidikan dapat membuat keputusan yang lebih informasional dan akurat dalam menghadapi tantangan atau mengidentifikasi peluang dalam meningkatkan prestasi akademik siswa.\n",
        "\n",
        "* Evaluasi Kebijakan atau Program Pendidikan: Dataset ini juga dapat digunakan untuk mengevaluasi efektivitas kebijakan atau program pendidikan yang telah diterapkan. Dengan menganalisis data yang ada, lembaga pendidikan atau penyedia layanan pendidikan dapat mengukur sejauh mana kebijakan atau program yang telah diimplementasikan telah berdampak pada tingkat prestasi akademik siswa, dan melakukan perbaikan atau penyesuaian kebijakan atau program yang ada jika diperlukan."
      ],
      "metadata": {
        "id": "1B7Y--m-aISY"
      }
    },
    {
      "cell_type": "markdown",
      "source": [
        "## 2.   DATA UNDERSTANDING\n"
      ],
      "metadata": {
        "id": "ZBcAlZPqaP8V"
      }
    },
    {
      "cell_type": "markdown",
      "source": [
        "1. Collect Data\n",
        "2. Penjelasan Setiap Kolom\n",
        "3. Visualisasi dan Artinya"
      ],
      "metadata": {
        "id": "uCznj0TNaVR-"
      }
    },
    {
      "cell_type": "code",
      "source": [
        "# Import library yang dibutuhkan\n",
        "import pandas as pd\n",
        "import numpy as np\n",
        "import seaborn as sns\n",
        "import matplotlib.pyplot as plt\n",
        "from sklearn.preprocessing import StandardScaler, LabelEncoder\n",
        "\n",
        "# Load dataset ke dalam DataFrame\n",
        "df2 = pd.read_csv(\"https://raw.githubusercontent.com/syarulrama/dataset/main/Predict_student_knowledge_level.csv\")\n",
        "\n",
        "# Cek dimensi dan tipe data\n",
        "print(df2.shape)\n",
        "print(df2.dtypes)\n",
        "\n",
        "# Cek nilai yang hilang dan statistik deskriptif\n",
        "print(df2.isna().sum())\n",
        "print(df2.describe())"
      ],
      "metadata": {
        "id": "koGo93awaWi6",
        "colab": {
          "base_uri": "https://localhost:8080/"
        },
        "outputId": "6b1f219a-2979-4db4-f186-f2508445ae10"
      },
      "execution_count": null,
      "outputs": [
        {
          "output_type": "stream",
          "name": "stdout",
          "text": [
            "(403, 6)\n",
            "STG     float64\n",
            "SCG     float64\n",
            "STR     float64\n",
            "LPR     float64\n",
            "PEG     float64\n",
            " UNS     object\n",
            "dtype: object\n",
            "STG     0\n",
            "SCG     0\n",
            "STR     0\n",
            "LPR     0\n",
            "PEG     0\n",
            " UNS    0\n",
            "dtype: int64\n",
            "              STG         SCG         STR         LPR         PEG\n",
            "count  403.000000  403.000000  403.000000  403.000000  403.000000\n",
            "mean     0.353141    0.355940    0.457655    0.431342    0.456360\n",
            "std      0.212018    0.215531    0.246684    0.257545    0.266775\n",
            "min      0.000000    0.000000    0.000000    0.000000    0.000000\n",
            "25%      0.200000    0.200000    0.265000    0.250000    0.250000\n",
            "50%      0.300000    0.300000    0.440000    0.330000    0.400000\n",
            "75%      0.480000    0.510000    0.680000    0.650000    0.660000\n",
            "max      0.990000    0.900000    0.950000    0.990000    0.990000\n"
          ]
        }
      ]
    },
    {
      "cell_type": "markdown",
      "source": [
        "### Describe Data"
      ],
      "metadata": {
        "id": "OyScEuQvakdN"
      }
    },
    {
      "cell_type": "code",
      "source": [
        "df2"
      ],
      "metadata": {
        "id": "zu8wMD3gal9j",
        "colab": {
          "base_uri": "https://localhost:8080/"
        },
        "outputId": "eb96ee71-6379-43e2-b27e-8658fa54656b"
      },
      "execution_count": null,
      "outputs": [
        {
          "output_type": "execute_result",
          "data": {
            "text/plain": [
              "      STG   SCG   STR   LPR   PEG       UNS\n",
              "0    0.00  0.00  0.00  0.00  0.00  very_low\n",
              "1    0.08  0.08  0.10  0.24  0.90      High\n",
              "2    0.06  0.06  0.05  0.25  0.33       Low\n",
              "3    0.10  0.10  0.15  0.65  0.30    Middle\n",
              "4    0.08  0.08  0.08  0.98  0.24       Low\n",
              "..    ...   ...   ...   ...   ...       ...\n",
              "398  0.90  0.78  0.62  0.32  0.89      High\n",
              "399  0.85  0.82  0.66  0.83  0.83      High\n",
              "400  0.56  0.60  0.77  0.13  0.32       Low\n",
              "401  0.66  0.68  0.81  0.57  0.57    Middle\n",
              "402  0.68  0.64  0.79  0.97  0.24    Middle\n",
              "\n",
              "[403 rows x 6 columns]"
            ],
            "text/html": [
              "\n",
              "  <div id=\"df-deecc412-8795-4281-be94-42d5eefacefc\">\n",
              "    <div class=\"colab-df-container\">\n",
              "      <div>\n",
              "<style scoped>\n",
              "    .dataframe tbody tr th:only-of-type {\n",
              "        vertical-align: middle;\n",
              "    }\n",
              "\n",
              "    .dataframe tbody tr th {\n",
              "        vertical-align: top;\n",
              "    }\n",
              "\n",
              "    .dataframe thead th {\n",
              "        text-align: right;\n",
              "    }\n",
              "</style>\n",
              "<table border=\"1\" class=\"dataframe\">\n",
              "  <thead>\n",
              "    <tr style=\"text-align: right;\">\n",
              "      <th></th>\n",
              "      <th>STG</th>\n",
              "      <th>SCG</th>\n",
              "      <th>STR</th>\n",
              "      <th>LPR</th>\n",
              "      <th>PEG</th>\n",
              "      <th>UNS</th>\n",
              "    </tr>\n",
              "  </thead>\n",
              "  <tbody>\n",
              "    <tr>\n",
              "      <th>0</th>\n",
              "      <td>0.00</td>\n",
              "      <td>0.00</td>\n",
              "      <td>0.00</td>\n",
              "      <td>0.00</td>\n",
              "      <td>0.00</td>\n",
              "      <td>very_low</td>\n",
              "    </tr>\n",
              "    <tr>\n",
              "      <th>1</th>\n",
              "      <td>0.08</td>\n",
              "      <td>0.08</td>\n",
              "      <td>0.10</td>\n",
              "      <td>0.24</td>\n",
              "      <td>0.90</td>\n",
              "      <td>High</td>\n",
              "    </tr>\n",
              "    <tr>\n",
              "      <th>2</th>\n",
              "      <td>0.06</td>\n",
              "      <td>0.06</td>\n",
              "      <td>0.05</td>\n",
              "      <td>0.25</td>\n",
              "      <td>0.33</td>\n",
              "      <td>Low</td>\n",
              "    </tr>\n",
              "    <tr>\n",
              "      <th>3</th>\n",
              "      <td>0.10</td>\n",
              "      <td>0.10</td>\n",
              "      <td>0.15</td>\n",
              "      <td>0.65</td>\n",
              "      <td>0.30</td>\n",
              "      <td>Middle</td>\n",
              "    </tr>\n",
              "    <tr>\n",
              "      <th>4</th>\n",
              "      <td>0.08</td>\n",
              "      <td>0.08</td>\n",
              "      <td>0.08</td>\n",
              "      <td>0.98</td>\n",
              "      <td>0.24</td>\n",
              "      <td>Low</td>\n",
              "    </tr>\n",
              "    <tr>\n",
              "      <th>...</th>\n",
              "      <td>...</td>\n",
              "      <td>...</td>\n",
              "      <td>...</td>\n",
              "      <td>...</td>\n",
              "      <td>...</td>\n",
              "      <td>...</td>\n",
              "    </tr>\n",
              "    <tr>\n",
              "      <th>398</th>\n",
              "      <td>0.90</td>\n",
              "      <td>0.78</td>\n",
              "      <td>0.62</td>\n",
              "      <td>0.32</td>\n",
              "      <td>0.89</td>\n",
              "      <td>High</td>\n",
              "    </tr>\n",
              "    <tr>\n",
              "      <th>399</th>\n",
              "      <td>0.85</td>\n",
              "      <td>0.82</td>\n",
              "      <td>0.66</td>\n",
              "      <td>0.83</td>\n",
              "      <td>0.83</td>\n",
              "      <td>High</td>\n",
              "    </tr>\n",
              "    <tr>\n",
              "      <th>400</th>\n",
              "      <td>0.56</td>\n",
              "      <td>0.60</td>\n",
              "      <td>0.77</td>\n",
              "      <td>0.13</td>\n",
              "      <td>0.32</td>\n",
              "      <td>Low</td>\n",
              "    </tr>\n",
              "    <tr>\n",
              "      <th>401</th>\n",
              "      <td>0.66</td>\n",
              "      <td>0.68</td>\n",
              "      <td>0.81</td>\n",
              "      <td>0.57</td>\n",
              "      <td>0.57</td>\n",
              "      <td>Middle</td>\n",
              "    </tr>\n",
              "    <tr>\n",
              "      <th>402</th>\n",
              "      <td>0.68</td>\n",
              "      <td>0.64</td>\n",
              "      <td>0.79</td>\n",
              "      <td>0.97</td>\n",
              "      <td>0.24</td>\n",
              "      <td>Middle</td>\n",
              "    </tr>\n",
              "  </tbody>\n",
              "</table>\n",
              "<p>403 rows × 6 columns</p>\n",
              "</div>\n",
              "      <button class=\"colab-df-convert\" onclick=\"convertToInteractive('df-deecc412-8795-4281-be94-42d5eefacefc')\"\n",
              "              title=\"Convert this dataframe to an interactive table.\"\n",
              "              style=\"display:none;\">\n",
              "        \n",
              "  <svg xmlns=\"http://www.w3.org/2000/svg\" height=\"24px\"viewBox=\"0 0 24 24\"\n",
              "       width=\"24px\">\n",
              "    <path d=\"M0 0h24v24H0V0z\" fill=\"none\"/>\n",
              "    <path d=\"M18.56 5.44l.94 2.06.94-2.06 2.06-.94-2.06-.94-.94-2.06-.94 2.06-2.06.94zm-11 1L8.5 8.5l.94-2.06 2.06-.94-2.06-.94L8.5 2.5l-.94 2.06-2.06.94zm10 10l.94 2.06.94-2.06 2.06-.94-2.06-.94-.94-2.06-.94 2.06-2.06.94z\"/><path d=\"M17.41 7.96l-1.37-1.37c-.4-.4-.92-.59-1.43-.59-.52 0-1.04.2-1.43.59L10.3 9.45l-7.72 7.72c-.78.78-.78 2.05 0 2.83L4 21.41c.39.39.9.59 1.41.59.51 0 1.02-.2 1.41-.59l7.78-7.78 2.81-2.81c.8-.78.8-2.07 0-2.86zM5.41 20L4 18.59l7.72-7.72 1.47 1.35L5.41 20z\"/>\n",
              "  </svg>\n",
              "      </button>\n",
              "      \n",
              "  <style>\n",
              "    .colab-df-container {\n",
              "      display:flex;\n",
              "      flex-wrap:wrap;\n",
              "      gap: 12px;\n",
              "    }\n",
              "\n",
              "    .colab-df-convert {\n",
              "      background-color: #E8F0FE;\n",
              "      border: none;\n",
              "      border-radius: 50%;\n",
              "      cursor: pointer;\n",
              "      display: none;\n",
              "      fill: #1967D2;\n",
              "      height: 32px;\n",
              "      padding: 0 0 0 0;\n",
              "      width: 32px;\n",
              "    }\n",
              "\n",
              "    .colab-df-convert:hover {\n",
              "      background-color: #E2EBFA;\n",
              "      box-shadow: 0px 1px 2px rgba(60, 64, 67, 0.3), 0px 1px 3px 1px rgba(60, 64, 67, 0.15);\n",
              "      fill: #174EA6;\n",
              "    }\n",
              "\n",
              "    [theme=dark] .colab-df-convert {\n",
              "      background-color: #3B4455;\n",
              "      fill: #D2E3FC;\n",
              "    }\n",
              "\n",
              "    [theme=dark] .colab-df-convert:hover {\n",
              "      background-color: #434B5C;\n",
              "      box-shadow: 0px 1px 3px 1px rgba(0, 0, 0, 0.15);\n",
              "      filter: drop-shadow(0px 1px 2px rgba(0, 0, 0, 0.3));\n",
              "      fill: #FFFFFF;\n",
              "    }\n",
              "  </style>\n",
              "\n",
              "      <script>\n",
              "        const buttonEl =\n",
              "          document.querySelector('#df-deecc412-8795-4281-be94-42d5eefacefc button.colab-df-convert');\n",
              "        buttonEl.style.display =\n",
              "          google.colab.kernel.accessAllowed ? 'block' : 'none';\n",
              "\n",
              "        async function convertToInteractive(key) {\n",
              "          const element = document.querySelector('#df-deecc412-8795-4281-be94-42d5eefacefc');\n",
              "          const dataTable =\n",
              "            await google.colab.kernel.invokeFunction('convertToInteractive',\n",
              "                                                     [key], {});\n",
              "          if (!dataTable) return;\n",
              "\n",
              "          const docLinkHtml = 'Like what you see? Visit the ' +\n",
              "            '<a target=\"_blank\" href=https://colab.research.google.com/notebooks/data_table.ipynb>data table notebook</a>'\n",
              "            + ' to learn more about interactive tables.';\n",
              "          element.innerHTML = '';\n",
              "          dataTable['output_type'] = 'display_data';\n",
              "          await google.colab.output.renderOutput(dataTable, element);\n",
              "          const docLink = document.createElement('div');\n",
              "          docLink.innerHTML = docLinkHtml;\n",
              "          element.appendChild(docLink);\n",
              "        }\n",
              "      </script>\n",
              "    </div>\n",
              "  </div>\n",
              "  "
            ]
          },
          "metadata": {},
          "execution_count": 2
        }
      ]
    },
    {
      "cell_type": "markdown",
      "source": [
        "### Deskripsi setiap kolom"
      ],
      "metadata": {
        "id": "Mib17P4Can2v"
      }
    },
    {
      "cell_type": "code",
      "source": [
        "df2.info()\n",
        "\n",
        "# Dataset ini memiliki 403 baris dan 6 kolom\n",
        "\n",
        "# STG: Rata-rata kinerja siswa dalam tugas sebelumnya\n",
        "# SCG: Rata-rata kinerja siswa dalam ujian sebelumnya\n",
        "# STR: Tingkat pemahaman siswa terhadap materi yang diajarkan\n",
        "# LPR: Tingkat kualitas hubungan antara siswa dan dosen\n",
        "# PEG: Tingkat penilaian dosen terhadap kinerja siswa\n",
        "# UNS: Nilai akhir siswa \n",
        "\n",
        "# Semua kolom diatas menggunakan skala 0-1, di mana 0 merupakan nilai terendah dan 1 merupakan nilai tertinggi.\n",
        "\n",
        "# Atribut-atribut ini dapat digunakan sebagai fitur untuk melakukan prediksi tingkat prestasi akademik siswa berdasarkan kinerja siswa dalam tugas, ujian, tingkat pemahaman, hubungan dengan dosen, penilaian dosen, dan nilai akhir yang telah diberikan dalam dataset."
      ],
      "metadata": {
        "id": "LeEFz8Bdapfm",
        "colab": {
          "base_uri": "https://localhost:8080/"
        },
        "outputId": "77e9e814-8453-4f4a-e9df-9b7fd73b244d"
      },
      "execution_count": null,
      "outputs": [
        {
          "output_type": "stream",
          "name": "stdout",
          "text": [
            "<class 'pandas.core.frame.DataFrame'>\n",
            "RangeIndex: 403 entries, 0 to 402\n",
            "Data columns (total 6 columns):\n",
            " #   Column  Non-Null Count  Dtype  \n",
            "---  ------  --------------  -----  \n",
            " 0   STG     403 non-null    float64\n",
            " 1   SCG     403 non-null    float64\n",
            " 2   STR     403 non-null    float64\n",
            " 3   LPR     403 non-null    float64\n",
            " 4   PEG     403 non-null    float64\n",
            " 5    UNS    403 non-null    object \n",
            "dtypes: float64(5), object(1)\n",
            "memory usage: 19.0+ KB\n"
          ]
        }
      ]
    },
    {
      "cell_type": "code",
      "source": [
        "# Menampilkan 5 data teratas dalam DataFrame\n",
        "print(df2.head())\n",
        "\n",
        "# Menampilkan statistik deskriptif dari dataset\n",
        "print(df2.describe())\n",
        "\n",
        "# Menampilkan jumlah nilai unik pada setiap kolom\n",
        "print(df2.nunique())\n"
      ],
      "metadata": {
        "colab": {
          "base_uri": "https://localhost:8080/"
        },
        "id": "_ml7cy6OjV48",
        "outputId": "58c4185b-e953-4b0b-9aa3-1343d22200d6"
      },
      "execution_count": null,
      "outputs": [
        {
          "output_type": "stream",
          "name": "stdout",
          "text": [
            "    STG   SCG   STR   LPR   PEG       UNS\n",
            "0  0.00  0.00  0.00  0.00  0.00  very_low\n",
            "1  0.08  0.08  0.10  0.24  0.90      High\n",
            "2  0.06  0.06  0.05  0.25  0.33       Low\n",
            "3  0.10  0.10  0.15  0.65  0.30    Middle\n",
            "4  0.08  0.08  0.08  0.98  0.24       Low\n",
            "              STG         SCG         STR         LPR         PEG\n",
            "count  403.000000  403.000000  403.000000  403.000000  403.000000\n",
            "mean     0.353141    0.355940    0.457655    0.431342    0.456360\n",
            "std      0.212018    0.215531    0.246684    0.257545    0.266775\n",
            "min      0.000000    0.000000    0.000000    0.000000    0.000000\n",
            "25%      0.200000    0.200000    0.265000    0.250000    0.250000\n",
            "50%      0.300000    0.300000    0.440000    0.330000    0.400000\n",
            "75%      0.480000    0.510000    0.680000    0.650000    0.660000\n",
            "max      0.990000    0.900000    0.950000    0.990000    0.990000\n",
            "STG     112\n",
            "SCG     103\n",
            "STR      94\n",
            "LPR      93\n",
            "PEG      89\n",
            " UNS      5\n",
            "dtype: int64\n"
          ]
        }
      ]
    },
    {
      "cell_type": "code",
      "source": [
        "len(df2)"
      ],
      "metadata": {
        "id": "NzTmMJ8karus",
        "colab": {
          "base_uri": "https://localhost:8080/"
        },
        "outputId": "64ca220e-8f90-4dcf-8c03-1eafdf0c8a2d"
      },
      "execution_count": null,
      "outputs": [
        {
          "output_type": "execute_result",
          "data": {
            "text/plain": [
              "403"
            ]
          },
          "metadata": {},
          "execution_count": 5
        }
      ]
    },
    {
      "cell_type": "markdown",
      "source": [
        "### Analisis setiap kolom"
      ],
      "metadata": {
        "id": "x8PyXBxnjeYJ"
      }
    },
    {
      "cell_type": "code",
      "source": [
        "# Menghitung rata-rata dari masing-masing kolom\n",
        "mean_values = df2.mean()\n",
        "print(mean_values)\n",
        "\n",
        "# Menghitung median dari masing-masing kolom\n",
        "median_values = df2.median()\n",
        "print(median_values)\n",
        "\n",
        "# Menghitung standar deviasi dari masing-masing kolom\n",
        "std_values = df2.std()\n",
        "print(std_values)\n",
        "\n",
        "# Menghitung korelasi antara kolom-kolom dataset\n",
        "correlation = df2.corr()\n",
        "print(correlation)\n"
      ],
      "metadata": {
        "colab": {
          "base_uri": "https://localhost:8080/"
        },
        "id": "X22127r-jdqK",
        "outputId": "e3e01d93-8cfe-4e08-88cd-60dabbad4038"
      },
      "execution_count": null,
      "outputs": [
        {
          "output_type": "stream",
          "name": "stdout",
          "text": [
            "STG    0.353141\n",
            "SCG    0.355940\n",
            "STR    0.457655\n",
            "LPR    0.431342\n",
            "PEG    0.456360\n",
            "dtype: float64\n",
            "STG    0.30\n",
            "SCG    0.30\n",
            "STR    0.44\n",
            "LPR    0.33\n",
            "PEG    0.40\n",
            "dtype: float64\n",
            "STG    0.212018\n",
            "SCG    0.215531\n",
            "STR    0.246684\n",
            "LPR    0.257545\n",
            "PEG    0.266775\n",
            "dtype: float64\n",
            "          STG       SCG       STR       LPR       PEG\n",
            "STG  1.000000  0.049023 -0.051889  0.113957  0.198629\n",
            "SCG  0.049023  1.000000  0.121235  0.119716  0.193566\n",
            "STR -0.051889  0.121235  1.000000  0.083423  0.148338\n",
            "LPR  0.113957  0.119716  0.083423  1.000000 -0.039283\n",
            "PEG  0.198629  0.193566  0.148338 -0.039283  1.000000\n"
          ]
        },
        {
          "output_type": "stream",
          "name": "stderr",
          "text": [
            "<ipython-input-6-38bb079d530a>:2: FutureWarning: The default value of numeric_only in DataFrame.mean is deprecated. In a future version, it will default to False. In addition, specifying 'numeric_only=None' is deprecated. Select only valid columns or specify the value of numeric_only to silence this warning.\n",
            "  mean_values = df2.mean()\n",
            "<ipython-input-6-38bb079d530a>:6: FutureWarning: The default value of numeric_only in DataFrame.median is deprecated. In a future version, it will default to False. In addition, specifying 'numeric_only=None' is deprecated. Select only valid columns or specify the value of numeric_only to silence this warning.\n",
            "  median_values = df2.median()\n",
            "<ipython-input-6-38bb079d530a>:10: FutureWarning: The default value of numeric_only in DataFrame.std is deprecated. In a future version, it will default to False. In addition, specifying 'numeric_only=None' is deprecated. Select only valid columns or specify the value of numeric_only to silence this warning.\n",
            "  std_values = df2.std()\n",
            "<ipython-input-6-38bb079d530a>:14: FutureWarning: The default value of numeric_only in DataFrame.corr is deprecated. In a future version, it will default to False. Select only valid columns or specify the value of numeric_only to silence this warning.\n",
            "  correlation = df2.corr()\n"
          ]
        }
      ]
    },
    {
      "cell_type": "markdown",
      "source": [
        "### Visualisai dan penjelasan (menggunakan Matplotlib atau Seaborn)"
      ],
      "metadata": {
        "id": "kkQO0S-vat9f"
      }
    },
    {
      "cell_type": "code",
      "source": [
        "import matplotlib.pyplot as plt\n",
        "import seaborn as sns\n",
        "\n",
        "# Menampilkan histogram dari kolom 'STG'\n",
        "plt.hist(df2['STG'])\n",
        "plt.xlabel('STG')\n",
        "plt.ylabel('Frequency')\n",
        "plt.title('Histogram of STG')\n",
        "plt.show()\n",
        "\n",
        "# Menampilkan scatter plot antara 'STG' dan 'UNS'\n",
        "sns.scatterplot(x='STG', y=' UNS', data=df2\n",
        ")\n",
        "plt.xlabel('STG')\n",
        "plt.ylabel('UNS')\n",
        "plt.title('Scatter Plot of STG vs UNS')\n",
        "plt.show()\n",
        "\n",
        "# Menampilkan heatmap korelasi antara kolom-kolom dataset\n",
        "sns.heatmap(correlation, annot=True, cmap='coolwarm')\n",
        "plt.title('Correlation Heatmap')\n",
        "plt.show()\n"
      ],
      "metadata": {
        "id": "IhYs-0CMazy2",
        "colab": {
          "base_uri": "https://localhost:8080/"
        },
        "outputId": "4c815761-f5e9-4ceb-b98f-3680d81c2e39"
      },
      "execution_count": null,
      "outputs": [
        {
          "output_type": "display_data",
          "data": {
            "text/plain": [
              "<Figure size 640x480 with 1 Axes>"
            ],
            "image/png": "[encoded data removed]"
          },
          "metadata": {}
        },
        {
          "output_type": "display_data",
          "data": {
            "text/plain": [
              "<Figure size 640x480 with 1 Axes>"
            ],
            "image/png": "[encoded data removed]"
          },
          "metadata": {}
        },
        {
          "output_type": "display_data",
          "data": {
            "text/plain": [
              "<Figure size 640x480 with 2 Axes>"
            ],
            "image/png": "[encoded data removed]"
          },
          "metadata": {}
        }
      ]
    },
    {
      "cell_type": "markdown",
      "source": [
        "## 3. DATA PREPARATION"
      ],
      "metadata": {
        "id": "7zERPblqb736"
      }
    },
    {
      "cell_type": "markdown",
      "source": [
        "### Melakukan pengubahan nama kolom"
      ],
      "metadata": {
        "id": "hcovMGAEt4XC"
      }
    },
    {
      "cell_type": "code",
      "source": [
        "# Mengubah nama kolom ' UNS' menjadi 'UNS'\n",
        "df2.rename(columns={' UNS': 'UNS'}, inplace=True)\n",
        "\n",
        "# Encoding kolom kategori menjadi numerik\n",
        "encoder = LabelEncoder()\n",
        "df2[\"UNS\"] = encoder.fit_transform(df2[\"UNS\"])\n",
        "\n"
      ],
      "metadata": {
        "id": "sGk94cwLpH1p"
      },
      "execution_count": null,
      "outputs": []
    },
    {
      "cell_type": "markdown",
      "source": [
        "### Menghapus kolom yang tidak diperlukan"
      ],
      "metadata": {
        "id": "O9HQwBxYn9q7"
      }
    },
    {
      "cell_type": "code",
      "source": [
        "import pandas as pd\n",
        "\n",
        "# Drop kolom yang tidak diperlukan\n",
        "df2.drop(['STR', 'LPR'], axis=1, inplace=True)\n"
      ],
      "metadata": {
        "id": "B8Z_ObbFou_i"
      },
      "execution_count": null,
      "outputs": []
    },
    {
      "cell_type": "code",
      "source": [
        "# Mengganti nilai NaN pada kolom 'STG' dan 'SCG' dengan nilai median\n",
        "# median_stg = df2['STG'].median()\n",
        "# df2['STG'].fillna(median_stg, inplace=True)\n",
        "\n",
        "# median_scg = df2['SCG'].median()\n",
        "# df2['SCG'].fillna(median_scg, inplace=True)\n"
      ],
      "metadata": {
        "id": "eEgd3I-2oEpC"
      },
      "execution_count": null,
      "outputs": []
    },
    {
      "cell_type": "markdown",
      "source": [
        "### Melakukan normalisasi data"
      ],
      "metadata": {
        "id": "LVLKRgzRoSdp"
      }
    },
    {
      "cell_type": "code",
      "source": [
        "import numpy as np\n",
        "\n",
        "# Melakukan min-max scaling pada kolom 'PEG' dan 'SCG'\n",
        "df2['PEG'] = (df2['PEG'] - df2['PEG'].min()) / (df2['PEG'].max() - df2['PEG'].min())\n",
        "df2['SCG'] = (df2['SCG'] - df2['SCG'].min()) / (df2['SCG'].max() - df2['SCG'].min())\n"
      ],
      "metadata": {
        "id": "x-VIR0N5oU_U"
      },
      "execution_count": null,
      "outputs": []
    },
    {
      "cell_type": "markdown",
      "source": [
        "### Melakukan konversi tipe data "
      ],
      "metadata": {
        "id": "h5gnOJM9xeW7"
      }
    },
    {
      "cell_type": "code",
      "source": [
        "# Mengubah tipe data kolom 'STG' dan 'SCG' menjadi float\n",
        "df2['STG'] = df2['STG'].astype(float)\n",
        "df2['SCG'] = df2['SCG'].astype(float)\n",
        "\n",
        "\n"
      ],
      "metadata": {
        "id": "NSZufGpBxh8q"
      },
      "execution_count": null,
      "outputs": []
    },
    {
      "cell_type": "code",
      "source": [
        "df2.info()\n",
        "\n",
        "df2"
      ],
      "metadata": {
        "colab": {
          "base_uri": "https://localhost:8080/"
        },
        "id": "A22IWUW9x71T",
        "outputId": "c707d074-f95f-4954-a66d-0ce1be87bb24"
      },
      "execution_count": null,
      "outputs": [
        {
          "output_type": "stream",
          "name": "stdout",
          "text": [
            "<class 'pandas.core.frame.DataFrame'>\n",
            "RangeIndex: 403 entries, 0 to 402\n",
            "Data columns (total 4 columns):\n",
            " #   Column  Non-Null Count  Dtype  \n",
            "---  ------  --------------  -----  \n",
            " 0   STG     403 non-null    float64\n",
            " 1   SCG     403 non-null    float64\n",
            " 2   PEG     403 non-null    float64\n",
            " 3   UNS     403 non-null    int64  \n",
            "dtypes: float64(3), int64(1)\n",
            "memory usage: 12.7 KB\n"
          ]
        },
        {
          "output_type": "execute_result",
          "data": {
            "text/plain": [
              "      STG       SCG       PEG  UNS\n",
              "0    0.00  0.000000  0.000000    4\n",
              "1    0.08  0.088889  0.909091    0\n",
              "2    0.06  0.066667  0.333333    1\n",
              "3    0.10  0.111111  0.303030    2\n",
              "4    0.08  0.088889  0.242424    1\n",
              "..    ...       ...       ...  ...\n",
              "398  0.90  0.866667  0.898990    0\n",
              "399  0.85  0.911111  0.838384    0\n",
              "400  0.56  0.666667  0.323232    1\n",
              "401  0.66  0.755556  0.575758    2\n",
              "402  0.68  0.711111  0.242424    2\n",
              "\n",
              "[403 rows x 4 columns]"
            ],
            "text/html": [
              "\n",
              "  <div id=\"df-c8d79ce9-1fe3-4185-996c-c718ba6a4570\">\n",
              "    <div class=\"colab-df-container\">\n",
              "      <div>\n",
              "<style scoped>\n",
              "    .dataframe tbody tr th:only-of-type {\n",
              "        vertical-align: middle;\n",
              "    }\n",
              "\n",
              "    .dataframe tbody tr th {\n",
              "        vertical-align: top;\n",
              "    }\n",
              "\n",
              "    .dataframe thead th {\n",
              "        text-align: right;\n",
              "    }\n",
              "</style>\n",
              "<table border=\"1\" class=\"dataframe\">\n",
              "  <thead>\n",
              "    <tr style=\"text-align: right;\">\n",
              "      <th></th>\n",
              "      <th>STG</th>\n",
              "      <th>SCG</th>\n",
              "      <th>PEG</th>\n",
              "      <th>UNS</th>\n",
              "    </tr>\n",
              "  </thead>\n",
              "  <tbody>\n",
              "    <tr>\n",
              "      <th>0</th>\n",
              "      <td>0.00</td>\n",
              "      <td>0.000000</td>\n",
              "      <td>0.000000</td>\n",
              "      <td>4</td>\n",
              "    </tr>\n",
              "    <tr>\n",
              "      <th>1</th>\n",
              "      <td>0.08</td>\n",
              "      <td>0.088889</td>\n",
              "      <td>0.909091</td>\n",
              "      <td>0</td>\n",
              "    </tr>\n",
              "    <tr>\n",
              "      <th>2</th>\n",
              "      <td>0.06</td>\n",
              "      <td>0.066667</td>\n",
              "      <td>0.333333</td>\n",
              "      <td>1</td>\n",
              "    </tr>\n",
              "    <tr>\n",
              "      <th>3</th>\n",
              "      <td>0.10</td>\n",
              "      <td>0.111111</td>\n",
              "      <td>0.303030</td>\n",
              "      <td>2</td>\n",
              "    </tr>\n",
              "    <tr>\n",
              "      <th>4</th>\n",
              "      <td>0.08</td>\n",
              "      <td>0.088889</td>\n",
              "      <td>0.242424</td>\n",
              "      <td>1</td>\n",
              "    </tr>\n",
              "    <tr>\n",
              "      <th>...</th>\n",
              "      <td>...</td>\n",
              "      <td>...</td>\n",
              "      <td>...</td>\n",
              "      <td>...</td>\n",
              "    </tr>\n",
              "    <tr>\n",
              "      <th>398</th>\n",
              "      <td>0.90</td>\n",
              "      <td>0.866667</td>\n",
              "      <td>0.898990</td>\n",
              "      <td>0</td>\n",
              "    </tr>\n",
              "    <tr>\n",
              "      <th>399</th>\n",
              "      <td>0.85</td>\n",
              "      <td>0.911111</td>\n",
              "      <td>0.838384</td>\n",
              "      <td>0</td>\n",
              "    </tr>\n",
              "    <tr>\n",
              "      <th>400</th>\n",
              "      <td>0.56</td>\n",
              "      <td>0.666667</td>\n",
              "      <td>0.323232</td>\n",
              "      <td>1</td>\n",
              "    </tr>\n",
              "    <tr>\n",
              "      <th>401</th>\n",
              "      <td>0.66</td>\n",
              "      <td>0.755556</td>\n",
              "      <td>0.575758</td>\n",
              "      <td>2</td>\n",
              "    </tr>\n",
              "    <tr>\n",
              "      <th>402</th>\n",
              "      <td>0.68</td>\n",
              "      <td>0.711111</td>\n",
              "      <td>0.242424</td>\n",
              "      <td>2</td>\n",
              "    </tr>\n",
              "  </tbody>\n",
              "</table>\n",
              "<p>403 rows × 4 columns</p>\n",
              "</div>\n",
              "      <button class=\"colab-df-convert\" onclick=\"convertToInteractive('df-c8d79ce9-1fe3-4185-996c-c718ba6a4570')\"\n",
              "              title=\"Convert this dataframe to an interactive table.\"\n",
              "              style=\"display:none;\">\n",
              "        \n",
              "  <svg xmlns=\"http://www.w3.org/2000/svg\" height=\"24px\"viewBox=\"0 0 24 24\"\n",
              "       width=\"24px\">\n",
              "    <path d=\"M0 0h24v24H0V0z\" fill=\"none\"/>\n",
              "    <path d=\"M18.56 5.44l.94 2.06.94-2.06 2.06-.94-2.06-.94-.94-2.06-.94 2.06-2.06.94zm-11 1L8.5 8.5l.94-2.06 2.06-.94-2.06-.94L8.5 2.5l-.94 2.06-2.06.94zm10 10l.94 2.06.94-2.06 2.06-.94-2.06-.94-.94-2.06-.94 2.06-2.06.94z\"/><path d=\"M17.41 7.96l-1.37-1.37c-.4-.4-.92-.59-1.43-.59-.52 0-1.04.2-1.43.59L10.3 9.45l-7.72 7.72c-.78.78-.78 2.05 0 2.83L4 21.41c.39.39.9.59 1.41.59.51 0 1.02-.2 1.41-.59l7.78-7.78 2.81-2.81c.8-.78.8-2.07 0-2.86zM5.41 20L4 18.59l7.72-7.72 1.47 1.35L5.41 20z\"/>\n",
              "  </svg>\n",
              "      </button>\n",
              "      \n",
              "  <style>\n",
              "    .colab-df-container {\n",
              "      display:flex;\n",
              "      flex-wrap:wrap;\n",
              "      gap: 12px;\n",
              "    }\n",
              "\n",
              "    .colab-df-convert {\n",
              "      background-color: #E8F0FE;\n",
              "      border: none;\n",
              "      border-radius: 50%;\n",
              "      cursor: pointer;\n",
              "      display: none;\n",
              "      fill: #1967D2;\n",
              "      height: 32px;\n",
              "      padding: 0 0 0 0;\n",
              "      width: 32px;\n",
              "    }\n",
              "\n",
              "    .colab-df-convert:hover {\n",
              "      background-color: #E2EBFA;\n",
              "      box-shadow: 0px 1px 2px rgba(60, 64, 67, 0.3), 0px 1px 3px 1px rgba(60, 64, 67, 0.15);\n",
              "      fill: #174EA6;\n",
              "    }\n",
              "\n",
              "    [theme=dark] .colab-df-convert {\n",
              "      background-color: #3B4455;\n",
              "      fill: #D2E3FC;\n",
              "    }\n",
              "\n",
              "    [theme=dark] .colab-df-convert:hover {\n",
              "      background-color: #434B5C;\n",
              "      box-shadow: 0px 1px 3px 1px rgba(0, 0, 0, 0.15);\n",
              "      filter: drop-shadow(0px 1px 2px rgba(0, 0, 0, 0.3));\n",
              "      fill: #FFFFFF;\n",
              "    }\n",
              "  </style>\n",
              "\n",
              "      <script>\n",
              "        const buttonEl =\n",
              "          document.querySelector('#df-c8d79ce9-1fe3-4185-996c-c718ba6a4570 button.colab-df-convert');\n",
              "        buttonEl.style.display =\n",
              "          google.colab.kernel.accessAllowed ? 'block' : 'none';\n",
              "\n",
              "        async function convertToInteractive(key) {\n",
              "          const element = document.querySelector('#df-c8d79ce9-1fe3-4185-996c-c718ba6a4570');\n",
              "          const dataTable =\n",
              "            await google.colab.kernel.invokeFunction('convertToInteractive',\n",
              "                                                     [key], {});\n",
              "          if (!dataTable) return;\n",
              "\n",
              "          const docLinkHtml = 'Like what you see? Visit the ' +\n",
              "            '<a target=\"_blank\" href=https://colab.research.google.com/notebooks/data_table.ipynb>data table notebook</a>'\n",
              "            + ' to learn more about interactive tables.';\n",
              "          element.innerHTML = '';\n",
              "          dataTable['output_type'] = 'display_data';\n",
              "          await google.colab.output.renderOutput(dataTable, element);\n",
              "          const docLink = document.createElement('div');\n",
              "          docLink.innerHTML = docLinkHtml;\n",
              "          element.appendChild(docLink);\n",
              "        }\n",
              "      </script>\n",
              "    </div>\n",
              "  </div>\n",
              "  "
            ]
          },
          "metadata": {},
          "execution_count": 13
        }
      ]
    },
    {
      "cell_type": "markdown",
      "source": [
        "### Melakukan penghapusan duplikat data"
      ],
      "metadata": {
        "id": "sj8zZ1rTyabT"
      }
    },
    {
      "cell_type": "code",
      "source": [
        "# Menghapus duplikat data berdasarkan semua kolom\n",
        "df2.drop_duplicates(inplace=True)\n",
        "\n",
        "df2"
      ],
      "metadata": {
        "id": "TxqerX_3yhh0",
        "outputId": "0bbad15d-0e65-43ba-ed45-ff2c090a6017",
        "colab": {
          "base_uri": "https://localhost:8080/"
        }
      },
      "execution_count": null,
      "outputs": [
        {
          "output_type": "execute_result",
          "data": {
            "text/plain": [
              "      STG       SCG       PEG  UNS\n",
              "0    0.00  0.000000  0.000000    4\n",
              "1    0.08  0.088889  0.909091    0\n",
              "2    0.06  0.066667  0.333333    1\n",
              "3    0.10  0.111111  0.303030    2\n",
              "4    0.08  0.088889  0.242424    1\n",
              "..    ...       ...       ...  ...\n",
              "398  0.90  0.866667  0.898990    0\n",
              "399  0.85  0.911111  0.838384    0\n",
              "400  0.56  0.666667  0.323232    1\n",
              "401  0.66  0.755556  0.575758    2\n",
              "402  0.68  0.711111  0.242424    2\n",
              "\n",
              "[400 rows x 4 columns]"
            ],
            "text/html": [
              "\n",
              "  <div id=\"df-6f438e9c-6ba5-4bb2-80f2-357578e0f1cf\">\n",
              "    <div class=\"colab-df-container\">\n",
              "      <div>\n",
              "<style scoped>\n",
              "    .dataframe tbody tr th:only-of-type {\n",
              "        vertical-align: middle;\n",
              "    }\n",
              "\n",
              "    .dataframe tbody tr th {\n",
              "        vertical-align: top;\n",
              "    }\n",
              "\n",
              "    .dataframe thead th {\n",
              "        text-align: right;\n",
              "    }\n",
              "</style>\n",
              "<table border=\"1\" class=\"dataframe\">\n",
              "  <thead>\n",
              "    <tr style=\"text-align: right;\">\n",
              "      <th></th>\n",
              "      <th>STG</th>\n",
              "      <th>SCG</th>\n",
              "      <th>PEG</th>\n",
              "      <th>UNS</th>\n",
              "    </tr>\n",
              "  </thead>\n",
              "  <tbody>\n",
              "    <tr>\n",
              "      <th>0</th>\n",
              "      <td>0.00</td>\n",
              "      <td>0.000000</td>\n",
              "      <td>0.000000</td>\n",
              "      <td>4</td>\n",
              "    </tr>\n",
              "    <tr>\n",
              "      <th>1</th>\n",
              "      <td>0.08</td>\n",
              "      <td>0.088889</td>\n",
              "      <td>0.909091</td>\n",
              "      <td>0</td>\n",
              "    </tr>\n",
              "    <tr>\n",
              "      <th>2</th>\n",
              "      <td>0.06</td>\n",
              "      <td>0.066667</td>\n",
              "      <td>0.333333</td>\n",
              "      <td>1</td>\n",
              "    </tr>\n",
              "    <tr>\n",
              "      <th>3</th>\n",
              "      <td>0.10</td>\n",
              "      <td>0.111111</td>\n",
              "      <td>0.303030</td>\n",
              "      <td>2</td>\n",
              "    </tr>\n",
              "    <tr>\n",
              "      <th>4</th>\n",
              "      <td>0.08</td>\n",
              "      <td>0.088889</td>\n",
              "      <td>0.242424</td>\n",
              "      <td>1</td>\n",
              "    </tr>\n",
              "    <tr>\n",
              "      <th>...</th>\n",
              "      <td>...</td>\n",
              "      <td>...</td>\n",
              "      <td>...</td>\n",
              "      <td>...</td>\n",
              "    </tr>\n",
              "    <tr>\n",
              "      <th>398</th>\n",
              "      <td>0.90</td>\n",
              "      <td>0.866667</td>\n",
              "      <td>0.898990</td>\n",
              "      <td>0</td>\n",
              "    </tr>\n",
              "    <tr>\n",
              "      <th>399</th>\n",
              "      <td>0.85</td>\n",
              "      <td>0.911111</td>\n",
              "      <td>0.838384</td>\n",
              "      <td>0</td>\n",
              "    </tr>\n",
              "    <tr>\n",
              "      <th>400</th>\n",
              "      <td>0.56</td>\n",
              "      <td>0.666667</td>\n",
              "      <td>0.323232</td>\n",
              "      <td>1</td>\n",
              "    </tr>\n",
              "    <tr>\n",
              "      <th>401</th>\n",
              "      <td>0.66</td>\n",
              "      <td>0.755556</td>\n",
              "      <td>0.575758</td>\n",
              "      <td>2</td>\n",
              "    </tr>\n",
              "    <tr>\n",
              "      <th>402</th>\n",
              "      <td>0.68</td>\n",
              "      <td>0.711111</td>\n",
              "      <td>0.242424</td>\n",
              "      <td>2</td>\n",
              "    </tr>\n",
              "  </tbody>\n",
              "</table>\n",
              "<p>400 rows × 4 columns</p>\n",
              "</div>\n",
              "      <button class=\"colab-df-convert\" onclick=\"convertToInteractive('df-6f438e9c-6ba5-4bb2-80f2-357578e0f1cf')\"\n",
              "              title=\"Convert this dataframe to an interactive table.\"\n",
              "              style=\"display:none;\">\n",
              "        \n",
              "  <svg xmlns=\"http://www.w3.org/2000/svg\" height=\"24px\"viewBox=\"0 0 24 24\"\n",
              "       width=\"24px\">\n",
              "    <path d=\"M0 0h24v24H0V0z\" fill=\"none\"/>\n",
              "    <path d=\"M18.56 5.44l.94 2.06.94-2.06 2.06-.94-2.06-.94-.94-2.06-.94 2.06-2.06.94zm-11 1L8.5 8.5l.94-2.06 2.06-.94-2.06-.94L8.5 2.5l-.94 2.06-2.06.94zm10 10l.94 2.06.94-2.06 2.06-.94-2.06-.94-.94-2.06-.94 2.06-2.06.94z\"/><path d=\"M17.41 7.96l-1.37-1.37c-.4-.4-.92-.59-1.43-.59-.52 0-1.04.2-1.43.59L10.3 9.45l-7.72 7.72c-.78.78-.78 2.05 0 2.83L4 21.41c.39.39.9.59 1.41.59.51 0 1.02-.2 1.41-.59l7.78-7.78 2.81-2.81c.8-.78.8-2.07 0-2.86zM5.41 20L4 18.59l7.72-7.72 1.47 1.35L5.41 20z\"/>\n",
              "  </svg>\n",
              "      </button>\n",
              "      \n",
              "  <style>\n",
              "    .colab-df-container {\n",
              "      display:flex;\n",
              "      flex-wrap:wrap;\n",
              "      gap: 12px;\n",
              "    }\n",
              "\n",
              "    .colab-df-convert {\n",
              "      background-color: #E8F0FE;\n",
              "      border: none;\n",
              "      border-radius: 50%;\n",
              "      cursor: pointer;\n",
              "      display: none;\n",
              "      fill: #1967D2;\n",
              "      height: 32px;\n",
              "      padding: 0 0 0 0;\n",
              "      width: 32px;\n",
              "    }\n",
              "\n",
              "    .colab-df-convert:hover {\n",
              "      background-color: #E2EBFA;\n",
              "      box-shadow: 0px 1px 2px rgba(60, 64, 67, 0.3), 0px 1px 3px 1px rgba(60, 64, 67, 0.15);\n",
              "      fill: #174EA6;\n",
              "    }\n",
              "\n",
              "    [theme=dark] .colab-df-convert {\n",
              "      background-color: #3B4455;\n",
              "      fill: #D2E3FC;\n",
              "    }\n",
              "\n",
              "    [theme=dark] .colab-df-convert:hover {\n",
              "      background-color: #434B5C;\n",
              "      box-shadow: 0px 1px 3px 1px rgba(0, 0, 0, 0.15);\n",
              "      filter: drop-shadow(0px 1px 2px rgba(0, 0, 0, 0.3));\n",
              "      fill: #FFFFFF;\n",
              "    }\n",
              "  </style>\n",
              "\n",
              "      <script>\n",
              "        const buttonEl =\n",
              "          document.querySelector('#df-6f438e9c-6ba5-4bb2-80f2-357578e0f1cf button.colab-df-convert');\n",
              "        buttonEl.style.display =\n",
              "          google.colab.kernel.accessAllowed ? 'block' : 'none';\n",
              "\n",
              "        async function convertToInteractive(key) {\n",
              "          const element = document.querySelector('#df-6f438e9c-6ba5-4bb2-80f2-357578e0f1cf');\n",
              "          const dataTable =\n",
              "            await google.colab.kernel.invokeFunction('convertToInteractive',\n",
              "                                                     [key], {});\n",
              "          if (!dataTable) return;\n",
              "\n",
              "          const docLinkHtml = 'Like what you see? Visit the ' +\n",
              "            '<a target=\"_blank\" href=https://colab.research.google.com/notebooks/data_table.ipynb>data table notebook</a>'\n",
              "            + ' to learn more about interactive tables.';\n",
              "          element.innerHTML = '';\n",
              "          dataTable['output_type'] = 'display_data';\n",
              "          await google.colab.output.renderOutput(dataTable, element);\n",
              "          const docLink = document.createElement('div');\n",
              "          docLink.innerHTML = docLinkHtml;\n",
              "          element.appendChild(docLink);\n",
              "        }\n",
              "      </script>\n",
              "    </div>\n",
              "  </div>\n",
              "  "
            ]
          },
          "metadata": {},
          "execution_count": 14
        }
      ]
    },
    {
      "cell_type": "markdown",
      "source": [
        "### "
      ],
      "metadata": {
        "id": "iHkrElT65v5v"
      }
    },
    {
      "cell_type": "code",
      "source": [
        "df2.replace "
      ],
      "metadata": {
        "id": "lXAY36pT5yE2",
        "colab": {
          "base_uri": "https://localhost:8080/"
        },
        "outputId": "87666b57-6b1d-43a1-f49f-2a8b39bf1a82"
      },
      "execution_count": null,
      "outputs": [
        {
          "output_type": "execute_result",
          "data": {
            "text/plain": [
              "<bound method DataFrame.replace of       STG       SCG       PEG  UNS\n",
              "0    0.00  0.000000  0.000000    4\n",
              "1    0.08  0.088889  0.909091    0\n",
              "2    0.06  0.066667  0.333333    1\n",
              "3    0.10  0.111111  0.303030    2\n",
              "4    0.08  0.088889  0.242424    1\n",
              "..    ...       ...       ...  ...\n",
              "398  0.90  0.866667  0.898990    0\n",
              "399  0.85  0.911111  0.838384    0\n",
              "400  0.56  0.666667  0.323232    1\n",
              "401  0.66  0.755556  0.575758    2\n",
              "402  0.68  0.711111  0.242424    2\n",
              "\n",
              "[400 rows x 4 columns]>"
            ]
          },
          "metadata": {},
          "execution_count": 15
        }
      ]
    },
    {
      "cell_type": "markdown",
      "source": [
        "## 4. DATA MODELLING"
      ],
      "metadata": {
        "id": "g5DCT_MvjrKU"
      }
    },
    {
      "cell_type": "markdown",
      "source": [
        "### Kmeans"
      ],
      "metadata": {
        "id": "Wx_LiR01kWko"
      }
    },
    {
      "cell_type": "code",
      "source": [
        "import pandas as pd\n",
        "import numpy as np\n",
        "import math\n",
        "from math import sqrt\n",
        "\n",
        "\n",
        "def kmeans(X, K):\n",
        "    # Initialize centroids randomly\n",
        "    centroids = X[np.random.choice(range(len(X)), K), :]\n",
        "    prev_centroids = np.zeros(centroids.shape)\n",
        "    \n",
        "    # Run K-means algorithm until convergence\n",
        "    while not np.allclose(centroids, prev_centroids):\n",
        "        # Assign each datapoint to the closest centroid\n",
        "        labels = np.argmin(np.sqrt(((X - centroids[:, np.newaxis])**2).sum(axis=2)), axis=0)\n",
        "        \n",
        "        # Update centroids as the mean of the datapoints assigned to it\n",
        "        prev_centroids = centroids.copy()\n",
        "        for i in range(K):\n",
        "            centroids[i] = X[labels == i].mean(axis=0)\n",
        "    \n",
        "    return labels, centroids\n",
        "\n",
        "# Select numerical columns and convert to numpy array\n",
        "X = df2[['STG', 'SCG', 'PEG', 'UNS']].values\n",
        "\n",
        "# Apply K-means algorithm\n",
        "K = 3\n",
        "labels, centroids = kmeans(X, K)\n",
        "\n",
        "# Add cluster labels to the dataset\n",
        "df2['Cluster'] = labels\n",
        "\n",
        "# Print cluster sizes\n",
        "print(df2['Cluster'].value_counts())"
      ],
      "metadata": {
        "colab": {
          "base_uri": "https://localhost:8080/"
        },
        "id": "CCCjJMtFTVPZ",
        "outputId": "ba9f5d97-5082-4609-f7b3-8e303736a08c"
      },
      "execution_count": null,
      "outputs": [
        {
          "output_type": "stream",
          "name": "stdout",
          "text": [
            "0    170\n",
            "1    129\n",
            "2    101\n",
            "Name: Cluster, dtype: int64\n"
          ]
        }
      ]
    },
    {
      "cell_type": "markdown",
      "source": [
        "\n",
        "> #### Penjelasan Algo diatas\n",
        "\n",
        "\n",
        "\n",
        "\n",
        "\n",
        "*   Impor library pandas, numpy, math, dan sqrt.\n",
        "*   Buat sebuah fungsi bernama kmeans yang akan digunakan untuk melakukan algoritma K-means.\n",
        "*   Fungsi kmeans menerima dua parameter yaitu X yang berisi data yang akan di-klasterisasi, dan K yaitu jumlah klaster yang diinginkan.\n",
        "* Centroids adalah sebuah variabel yang digunakan untuk inisialisasi centroid secara acak menggunakan numpy.random.choice untuk memilih secara acak dari baris dalam X sejumlah K kali.\n",
        "\n",
        "\n",
        "\n",
        "* prev_centroids diinisialisasi dengan nilai nol pada bentuk yang sama dengan centroids.\n",
        "> Selama centroids tidak sama dengan prev_centroids, lakukan:\n",
        "* Labelkan setiap data point ke centroid terdekat dengan mencari argumen minimum dari jarak antara data point dan centroid.\n",
        "* Perbarui centroid sebagai rata-rata dari data point yang ditugaskan ke centroid tersebut.\n",
        "* Centroids yang diperbarui disalin ke prev_centroids.\n",
        "* Fungsi kmeans mengembalikan label dan centroid hasil klasterisasi.\n",
        "* Pilih kolom numerik dari df2 dan konversi menjadi numpy array X.\n",
        "* Terapkan algoritma K-means pada X menggunakan fungsi kmeans dengan K=3 dan simpan label dan centroid ke dalam variabel labels dan centroids.\n",
        "* Tambahkan kolom Cluster ke dalam df2 dan isi dengan label klaster dari setiap baris.\n",
        "* Hitung dan tampilkan jumlah baris dalam setiap klaster.\n",
        "\n"
      ],
      "metadata": {
        "id": "aFmXwO1ueiNn"
      }
    },
    {
      "cell_type": "markdown",
      "source": [
        "### Feature Engineering"
      ],
      "metadata": {
        "id": "aX3Pf9jDj2W5"
      }
    },
    {
      "cell_type": "markdown",
      "source": [
        "#### Normalisasi"
      ],
      "metadata": {
        "id": "YdMDOzIFmDa5"
      }
    },
    {
      "cell_type": "code",
      "source": [
        "from sklearn.preprocessing import MinMaxScaler\n",
        "\n",
        "# kolom 'STG', 'SCG', 'PEG', dan 'UNS' memiliki skala yang berbeda, maka akan di normalisasi agar memiliki skala yang sama\n",
        "scaler = MinMaxScaler()\n",
        "df2[['STG', 'SCG', 'PEG', 'UNS']] = scaler.fit_transform(df2[['STG', 'SCG', 'PEG', 'UNS']])"
      ],
      "metadata": {
        "id": "7SPbIO3JlDPP"
      },
      "execution_count": null,
      "outputs": []
    },
    {
      "cell_type": "markdown",
      "source": [
        "#### Pengelompokan"
      ],
      "metadata": {
        "id": "MYTnW-3kmpWn"
      }
    },
    {
      "cell_type": "code",
      "source": [
        "# Pengelompokan kolom 'STG' bisa dikategorikan menjadi 3 kelompok berdasarkan rentang nilai.\n",
        "bins = [0, 0.4, 0.7, 1]\n",
        "labels = ['low', 'medium', 'high']\n",
        "df2['STG_group'] = pd.cut(df2['STG'], bins=bins, labels=labels)"
      ],
      "metadata": {
        "id": "3925QIhyl9tX"
      },
      "execution_count": null,
      "outputs": []
    },
    {
      "cell_type": "markdown",
      "source": [
        "#### Pembuatan variabel baru"
      ],
      "metadata": {
        "id": "7lI4zmtRm6KH"
      }
    },
    {
      "cell_type": "code",
      "source": [
        "# Jika variabel yang ada tidak cukup untuk menjelaskan suatu fenomena, bisa dibuat variabel baru dari variabel yang sudah ada.\n",
        "# kolom 'STG' dan 'SCG' bisa digunakan untuk menghitung nilai rata-rata akademik.\n",
        "df2['Academic_mean'] = (df2['STG'] + df2['SCG']) / 2"
      ],
      "metadata": {
        "id": "wll84LYxl_tP"
      },
      "execution_count": null,
      "outputs": []
    },
    {
      "cell_type": "markdown",
      "source": [
        "### Splitting Data"
      ],
      "metadata": {
        "id": "F3e-PccZnPS3"
      }
    },
    {
      "cell_type": "code",
      "source": [
        "from sklearn.model_selection import train_test_split\n",
        "\n",
        "# Split dataset into features and target variable\n",
        "X = df2[['STG', 'SCG', 'PEG']]\n",
        "y = df2['UNS']\n",
        "\n",
        "# Split dataset into training and testing sets\n",
        "X_train, X_test, y_train, y_test = train_test_split(X, y, test_size=0.3, random_state=42)\n"
      ],
      "metadata": {
        "id": "Xd99lsrGn_G0"
      },
      "execution_count": null,
      "outputs": []
    },
    {
      "cell_type": "markdown",
      "source": [
        "#### Penjelasan pembagian data diatas\n",
        "Dalam contoh code di atas, data dibagi menjadi data training (X_train, y_train) dan data testing (X_test, y_test). 70% dari dataset digunakan sebagai data training dan 30% digunakan sebagai data testing. Data training berisi kolom STG, SCG, dan PEG sedangkan kolom UNS menjadi target variable."
      ],
      "metadata": {
        "id": "bZc_MTzOoEqe"
      }
    },
    {
      "cell_type": "code",
      "source": [
        "df2.info()"
      ],
      "metadata": {
        "colab": {
          "base_uri": "https://localhost:8080/"
        },
        "id": "ssveK5Q8rPW3",
        "outputId": "44d18562-5955-40bd-ffaf-56080008f16d"
      },
      "execution_count": null,
      "outputs": [
        {
          "output_type": "stream",
          "name": "stdout",
          "text": [
            "<class 'pandas.core.frame.DataFrame'>\n",
            "Int64Index: 400 entries, 0 to 402\n",
            "Data columns (total 7 columns):\n",
            " #   Column         Non-Null Count  Dtype   \n",
            "---  ------         --------------  -----   \n",
            " 0   STG            400 non-null    float64 \n",
            " 1   SCG            400 non-null    float64 \n",
            " 2   PEG            400 non-null    float64 \n",
            " 3   UNS            400 non-null    float64 \n",
            " 4   Cluster        400 non-null    int64   \n",
            " 5   STG_group      395 non-null    category\n",
            " 6   Academic_mean  400 non-null    float64 \n",
            "dtypes: category(1), float64(5), int64(1)\n",
            "memory usage: 22.4 KB\n"
          ]
        }
      ]
    },
    {
      "cell_type": "markdown",
      "source": [
        "### Model Selection"
      ],
      "metadata": {
        "id": "lpuVrlZJoElV"
      }
    },
    {
      "cell_type": "markdown",
      "source": [
        "##### Untuk model selection, disini dataset terbagi menjadi tiga bagian yaitu training set, validation set, dan test set. Training set digunakan untuk melatih model, validation set digunakan untuk memilih model terbaik, dan test set digunakan untuk menguji performa model yang telah dipilih."
      ],
      "metadata": {
        "id": "C5oS_iHAsj54"
      }
    },
    {
      "cell_type": "code",
      "source": [
        "from sklearn.preprocessing import LabelEncoder\n",
        "\n",
        "# Select target variable and perform label encoding\n",
        "le = LabelEncoder()\n",
        "df2['UNS'] = le.fit_transform(df2['UNS'])\n"
      ],
      "metadata": {
        "id": "Is4YZYh7qr7W"
      },
      "execution_count": null,
      "outputs": []
    },
    {
      "cell_type": "code",
      "source": [
        "import pandas as pd\n",
        "from sklearn.tree import DecisionTreeClassifier\n",
        "\n",
        "# One-Hot Encoding\n",
        "df2 = pd.get_dummies(df2, columns=['STG_group'])\n",
        "\n",
        "# Split dataset\n",
        "X = df2.drop(['UNS'], axis=1)\n",
        "y = df2['UNS']\n",
        "\n",
        "# Train-Test Split\n",
        "from sklearn.model_selection import train_test_split\n",
        "X_train, X_test, y_train, y_test = train_test_split(X, y, test_size=0.3, random_state=42)\n",
        "\n",
        "# Train model\n",
        "from sklearn.tree import DecisionTreeClassifier\n",
        "model = DecisionTreeClassifier(random_state=42)\n",
        "model.fit(X_train, y_train)\n",
        "\n",
        "# Predict on test set\n",
        "y_pred = model.predict(X_test)\n",
        "\n",
        "# Evaluate model\n",
        "from sklearn.metrics import accuracy_score\n",
        "accuracy = accuracy_score(y_test, y_pred)\n",
        "print('Accuracy:', accuracy)\n"
      ],
      "metadata": {
        "colab": {
          "base_uri": "https://localhost:8080/"
        },
        "id": "hAPMWhkyorfv",
        "outputId": "f888196f-f12a-4f9d-d50a-dfa5d179ca41"
      },
      "execution_count": null,
      "outputs": [
        {
          "output_type": "stream",
          "name": "stdout",
          "text": [
            "Accuracy: 0.9333333333333333\n"
          ]
        }
      ]
    },
    {
      "cell_type": "code",
      "source": [
        "df2\n",
        "df2.info()"
      ],
      "metadata": {
        "colab": {
          "base_uri": "https://localhost:8080/"
        },
        "id": "kcqInBLjs3fn",
        "outputId": "f8fd88d6-d581-4e65-9b58-b5c06cd346df"
      },
      "execution_count": null,
      "outputs": [
        {
          "output_type": "stream",
          "name": "stdout",
          "text": [
            "<class 'pandas.core.frame.DataFrame'>\n",
            "Int64Index: 400 entries, 0 to 402\n",
            "Data columns (total 9 columns):\n",
            " #   Column            Non-Null Count  Dtype  \n",
            "---  ------            --------------  -----  \n",
            " 0   STG               400 non-null    float64\n",
            " 1   SCG               400 non-null    float64\n",
            " 2   PEG               400 non-null    float64\n",
            " 3   UNS               400 non-null    int64  \n",
            " 4   Cluster           400 non-null    int64  \n",
            " 5   Academic_mean     400 non-null    float64\n",
            " 6   STG_group_low     400 non-null    uint8  \n",
            " 7   STG_group_medium  400 non-null    uint8  \n",
            " 8   STG_group_high    400 non-null    uint8  \n",
            "dtypes: float64(4), int64(2), uint8(3)\n",
            "memory usage: 23.0 KB\n"
          ]
        }
      ]
    },
    {
      "cell_type": "markdown",
      "source": [
        "### Training Model"
      ],
      "metadata": {
        "id": "iuMBff1rtRVP"
      }
    },
    {
      "cell_type": "code",
      "source": [
        "from sklearn.tree import DecisionTreeClassifier\n",
        "from sklearn.metrics import accuracy_score\n",
        "\n",
        "# Train model on training set\n",
        "model = DecisionTreeClassifier(random_state=42)\n",
        "model.fit(X_train, y_train)\n",
        "\n",
        "# Predict on testing set\n",
        "y_pred = model.predict(X_test)\n",
        "\n",
        "# Evaluate model performance\n",
        "accuracy = accuracy_score(y_test, y_pred)\n",
        "print(\"Accuracy:\", accuracy)\n"
      ],
      "metadata": {
        "colab": {
          "base_uri": "https://localhost:8080/"
        },
        "id": "6NDt4XsDtRGP",
        "outputId": "6371aeca-d752-4009-e398-9c42fda569b4"
      },
      "execution_count": null,
      "outputs": [
        {
          "output_type": "stream",
          "name": "stdout",
          "text": [
            "Accuracy: 0.9333333333333333\n"
          ]
        }
      ]
    },
    {
      "cell_type": "markdown",
      "source": [
        "#### penjelasan\n",
        "pertama-tama menginisialisasi model Decision Tree dengan parameter random_state=42. Kemudian kita melatih model menggunakan method fit pada data training, yaitu X_train dan y_train.\n",
        "\n",
        "Selanjutnya, melakukan prediksi pada data testing dengan menggunakan method predict pada model yang sudah dilatih, yaitu model. Hasil prediksi akan disimpan pada variabel y_pred.\n",
        "\n",
        "Terakhir, mengevaluasi performa model dengan menghitung akurasi dengan menggunakan fungsi accuracy_score pada data testing, yaitu y_test dan y_pred. Hasil akurasi akan ditampilkan pada output."
      ],
      "metadata": {
        "id": "uGmsYF7Ht5On"
      }
    },
    {
      "cell_type": "markdown",
      "source": [
        "## 5. DATA EVALUATION"
      ],
      "metadata": {
        "id": "rYZyRZV7uT-I"
      }
    },
    {
      "cell_type": "code",
      "source": [
        "from sklearn.metrics import confusion_matrix, classification_report\n",
        "\n",
        "# Predict target variable using trained model\n",
        "y_pred = model.predict(X_test)\n",
        "\n",
        "# Generate confusion matrix and classification report\n",
        "print(confusion_matrix(y_test, y_pred))\n",
        "print(classification_report(y_test, y_pred))\n",
        "\n",
        "df2\n"
      ],
      "metadata": {
        "colab": {
          "base_uri": "https://localhost:8080/"
        },
        "id": "KtHnwBJ5uDyh",
        "outputId": "a7bda375-20a6-4818-98c0-e62bc1322efb"
      },
      "execution_count": null,
      "outputs": [
        {
          "output_type": "stream",
          "name": "stdout",
          "text": [
            "[[28  0  0  0  0]\n",
            " [ 0 35  0  0  0]\n",
            " [ 0  0 42  0  0]\n",
            " [ 0  0  0  6  1]\n",
            " [ 0  0  0  7  1]]\n",
            "              precision    recall  f1-score   support\n",
            "\n",
            "           0       1.00      1.00      1.00        28\n",
            "           1       1.00      1.00      1.00        35\n",
            "           2       1.00      1.00      1.00        42\n",
            "           3       0.46      0.86      0.60         7\n",
            "           4       0.50      0.12      0.20         8\n",
            "\n",
            "    accuracy                           0.93       120\n",
            "   macro avg       0.79      0.80      0.76       120\n",
            "weighted avg       0.94      0.93      0.92       120\n",
            "\n"
          ]
        },
        {
          "output_type": "execute_result",
          "data": {
            "text/plain": [
              "          STG       SCG       PEG  UNS  Cluster  Academic_mean  STG_group_low  \\\n",
              "0    0.000000  0.000000  0.000000    4        0       0.000000              0   \n",
              "1    0.080808  0.088889  0.909091    0        2       0.084848              1   \n",
              "2    0.060606  0.066667  0.333333    1        1       0.063636              1   \n",
              "3    0.101010  0.111111  0.303030    2        0       0.106061              1   \n",
              "4    0.080808  0.088889  0.242424    1        1       0.084848              1   \n",
              "..        ...       ...       ...  ...      ...            ...            ...   \n",
              "398  0.909091  0.866667  0.898990    0        2       0.887879              0   \n",
              "399  0.858586  0.911111  0.838384    0        2       0.884848              0   \n",
              "400  0.565657  0.666667  0.323232    1        1       0.616162              0   \n",
              "401  0.666667  0.755556  0.575758    2        0       0.711111              0   \n",
              "402  0.686869  0.711111  0.242424    2        0       0.698990              0   \n",
              "\n",
              "     STG_group_medium  STG_group_high  \n",
              "0                   0               0  \n",
              "1                   0               0  \n",
              "2                   0               0  \n",
              "3                   0               0  \n",
              "4                   0               0  \n",
              "..                ...             ...  \n",
              "398                 0               1  \n",
              "399                 0               1  \n",
              "400                 1               0  \n",
              "401                 1               0  \n",
              "402                 1               0  \n",
              "\n",
              "[400 rows x 9 columns]"
            ],
            "text/html": [
              "\n",
              "  <div id=\"df-1d0c1ecd-497a-41f7-9c7a-fef8967374a8\">\n",
              "    <div class=\"colab-df-container\">\n",
              "      <div>\n",
              "<style scoped>\n",
              "    .dataframe tbody tr th:only-of-type {\n",
              "        vertical-align: middle;\n",
              "    }\n",
              "\n",
              "    .dataframe tbody tr th {\n",
              "        vertical-align: top;\n",
              "    }\n",
              "\n",
              "    .dataframe thead th {\n",
              "        text-align: right;\n",
              "    }\n",
              "</style>\n",
              "<table border=\"1\" class=\"dataframe\">\n",
              "  <thead>\n",
              "    <tr style=\"text-align: right;\">\n",
              "      <th></th>\n",
              "      <th>STG</th>\n",
              "      <th>SCG</th>\n",
              "      <th>PEG</th>\n",
              "      <th>UNS</th>\n",
              "      <th>Cluster</th>\n",
              "      <th>Academic_mean</th>\n",
              "      <th>STG_group_low</th>\n",
              "      <th>STG_group_medium</th>\n",
              "      <th>STG_group_high</th>\n",
              "    </tr>\n",
              "  </thead>\n",
              "  <tbody>\n",
              "    <tr>\n",
              "      <th>0</th>\n",
              "      <td>0.000000</td>\n",
              "      <td>0.000000</td>\n",
              "      <td>0.000000</td>\n",
              "      <td>4</td>\n",
              "      <td>0</td>\n",
              "      <td>0.000000</td>\n",
              "      <td>0</td>\n",
              "      <td>0</td>\n",
              "      <td>0</td>\n",
              "    </tr>\n",
              "    <tr>\n",
              "      <th>1</th>\n",
              "      <td>0.080808</td>\n",
              "      <td>0.088889</td>\n",
              "      <td>0.909091</td>\n",
              "      <td>0</td>\n",
              "      <td>2</td>\n",
              "      <td>0.084848</td>\n",
              "      <td>1</td>\n",
              "      <td>0</td>\n",
              "      <td>0</td>\n",
              "    </tr>\n",
              "    <tr>\n",
              "      <th>2</th>\n",
              "      <td>0.060606</td>\n",
              "      <td>0.066667</td>\n",
              "      <td>0.333333</td>\n",
              "      <td>1</td>\n",
              "      <td>1</td>\n",
              "      <td>0.063636</td>\n",
              "      <td>1</td>\n",
              "      <td>0</td>\n",
              "      <td>0</td>\n",
              "    </tr>\n",
              "    <tr>\n",
              "      <th>3</th>\n",
              "      <td>0.101010</td>\n",
              "      <td>0.111111</td>\n",
              "      <td>0.303030</td>\n",
              "      <td>2</td>\n",
              "      <td>0</td>\n",
              "      <td>0.106061</td>\n",
              "      <td>1</td>\n",
              "      <td>0</td>\n",
              "      <td>0</td>\n",
              "    </tr>\n",
              "    <tr>\n",
              "      <th>4</th>\n",
              "      <td>0.080808</td>\n",
              "      <td>0.088889</td>\n",
              "      <td>0.242424</td>\n",
              "      <td>1</td>\n",
              "      <td>1</td>\n",
              "      <td>0.084848</td>\n",
              "      <td>1</td>\n",
              "      <td>0</td>\n",
              "      <td>0</td>\n",
              "    </tr>\n",
              "    <tr>\n",
              "      <th>...</th>\n",
              "      <td>...</td>\n",
              "      <td>...</td>\n",
              "      <td>...</td>\n",
              "      <td>...</td>\n",
              "      <td>...</td>\n",
              "      <td>...</td>\n",
              "      <td>...</td>\n",
              "      <td>...</td>\n",
              "      <td>...</td>\n",
              "    </tr>\n",
              "    <tr>\n",
              "      <th>398</th>\n",
              "      <td>0.909091</td>\n",
              "      <td>0.866667</td>\n",
              "      <td>0.898990</td>\n",
              "      <td>0</td>\n",
              "      <td>2</td>\n",
              "      <td>0.887879</td>\n",
              "      <td>0</td>\n",
              "      <td>0</td>\n",
              "      <td>1</td>\n",
              "    </tr>\n",
              "    <tr>\n",
              "      <th>399</th>\n",
              "      <td>0.858586</td>\n",
              "      <td>0.911111</td>\n",
              "      <td>0.838384</td>\n",
              "      <td>0</td>\n",
              "      <td>2</td>\n",
              "      <td>0.884848</td>\n",
              "      <td>0</td>\n",
              "      <td>0</td>\n",
              "      <td>1</td>\n",
              "    </tr>\n",
              "    <tr>\n",
              "      <th>400</th>\n",
              "      <td>0.565657</td>\n",
              "      <td>0.666667</td>\n",
              "      <td>0.323232</td>\n",
              "      <td>1</td>\n",
              "      <td>1</td>\n",
              "      <td>0.616162</td>\n",
              "      <td>0</td>\n",
              "      <td>1</td>\n",
              "      <td>0</td>\n",
              "    </tr>\n",
              "    <tr>\n",
              "      <th>401</th>\n",
              "      <td>0.666667</td>\n",
              "      <td>0.755556</td>\n",
              "      <td>0.575758</td>\n",
              "      <td>2</td>\n",
              "      <td>0</td>\n",
              "      <td>0.711111</td>\n",
              "      <td>0</td>\n",
              "      <td>1</td>\n",
              "      <td>0</td>\n",
              "    </tr>\n",
              "    <tr>\n",
              "      <th>402</th>\n",
              "      <td>0.686869</td>\n",
              "      <td>0.711111</td>\n",
              "      <td>0.242424</td>\n",
              "      <td>2</td>\n",
              "      <td>0</td>\n",
              "      <td>0.698990</td>\n",
              "      <td>0</td>\n",
              "      <td>1</td>\n",
              "      <td>0</td>\n",
              "    </tr>\n",
              "  </tbody>\n",
              "</table>\n",
              "<p>400 rows × 9 columns</p>\n",
              "</div>\n",
              "      <button class=\"colab-df-convert\" onclick=\"convertToInteractive('df-1d0c1ecd-497a-41f7-9c7a-fef8967374a8')\"\n",
              "              title=\"Convert this dataframe to an interactive table.\"\n",
              "              style=\"display:none;\">\n",
              "        \n",
              "  <svg xmlns=\"http://www.w3.org/2000/svg\" height=\"24px\"viewBox=\"0 0 24 24\"\n",
              "       width=\"24px\">\n",
              "    <path d=\"M0 0h24v24H0V0z\" fill=\"none\"/>\n",
              "    <path d=\"M18.56 5.44l.94 2.06.94-2.06 2.06-.94-2.06-.94-.94-2.06-.94 2.06-2.06.94zm-11 1L8.5 8.5l.94-2.06 2.06-.94-2.06-.94L8.5 2.5l-.94 2.06-2.06.94zm10 10l.94 2.06.94-2.06 2.06-.94-2.06-.94-.94-2.06-.94 2.06-2.06.94z\"/><path d=\"M17.41 7.96l-1.37-1.37c-.4-.4-.92-.59-1.43-.59-.52 0-1.04.2-1.43.59L10.3 9.45l-7.72 7.72c-.78.78-.78 2.05 0 2.83L4 21.41c.39.39.9.59 1.41.59.51 0 1.02-.2 1.41-.59l7.78-7.78 2.81-2.81c.8-.78.8-2.07 0-2.86zM5.41 20L4 18.59l7.72-7.72 1.47 1.35L5.41 20z\"/>\n",
              "  </svg>\n",
              "      </button>\n",
              "      \n",
              "  <style>\n",
              "    .colab-df-container {\n",
              "      display:flex;\n",
              "      flex-wrap:wrap;\n",
              "      gap: 12px;\n",
              "    }\n",
              "\n",
              "    .colab-df-convert {\n",
              "      background-color: #E8F0FE;\n",
              "      border: none;\n",
              "      border-radius: 50%;\n",
              "      cursor: pointer;\n",
              "      display: none;\n",
              "      fill: #1967D2;\n",
              "      height: 32px;\n",
              "      padding: 0 0 0 0;\n",
              "      width: 32px;\n",
              "    }\n",
              "\n",
              "    .colab-df-convert:hover {\n",
              "      background-color: #E2EBFA;\n",
              "      box-shadow: 0px 1px 2px rgba(60, 64, 67, 0.3), 0px 1px 3px 1px rgba(60, 64, 67, 0.15);\n",
              "      fill: #174EA6;\n",
              "    }\n",
              "\n",
              "    [theme=dark] .colab-df-convert {\n",
              "      background-color: #3B4455;\n",
              "      fill: #D2E3FC;\n",
              "    }\n",
              "\n",
              "    [theme=dark] .colab-df-convert:hover {\n",
              "      background-color: #434B5C;\n",
              "      box-shadow: 0px 1px 3px 1px rgba(0, 0, 0, 0.15);\n",
              "      filter: drop-shadow(0px 1px 2px rgba(0, 0, 0, 0.3));\n",
              "      fill: #FFFFFF;\n",
              "    }\n",
              "  </style>\n",
              "\n",
              "      <script>\n",
              "        const buttonEl =\n",
              "          document.querySelector('#df-1d0c1ecd-497a-41f7-9c7a-fef8967374a8 button.colab-df-convert');\n",
              "        buttonEl.style.display =\n",
              "          google.colab.kernel.accessAllowed ? 'block' : 'none';\n",
              "\n",
              "        async function convertToInteractive(key) {\n",
              "          const element = document.querySelector('#df-1d0c1ecd-497a-41f7-9c7a-fef8967374a8');\n",
              "          const dataTable =\n",
              "            await google.colab.kernel.invokeFunction('convertToInteractive',\n",
              "                                                     [key], {});\n",
              "          if (!dataTable) return;\n",
              "\n",
              "          const docLinkHtml = 'Like what you see? Visit the ' +\n",
              "            '<a target=\"_blank\" href=https://colab.research.google.com/notebooks/data_table.ipynb>data table notebook</a>'\n",
              "            + ' to learn more about interactive tables.';\n",
              "          element.innerHTML = '';\n",
              "          dataTable['output_type'] = 'display_data';\n",
              "          await google.colab.output.renderOutput(dataTable, element);\n",
              "          const docLink = document.createElement('div');\n",
              "          docLink.innerHTML = docLinkHtml;\n",
              "          element.appendChild(docLink);\n",
              "        }\n",
              "      </script>\n",
              "    </div>\n",
              "  </div>\n",
              "  "
            ]
          },
          "metadata": {},
          "execution_count": 26
        }
      ]
    },
    {
      "cell_type": "markdown",
      "source": [
        "##### pada tahap model evaluation disini menggunakan confusion_matrix dan classification_report yang merupakan fungsi dari sklearn.metrics untuk mengevaluasi model. Confusion matrix digunakan untuk menampilkan jumlah data yang terprediksi dengan benar dan salah, sedangkan classification report menampilkan metrics seperti accuracy, precision, recall, dan f1-score."
      ],
      "metadata": {
        "id": "qZenJTFsuim_"
      }
    },
    {
      "cell_type": "markdown",
      "source": [
        "#### Penjelasan :\n",
        "\n",
        "* y_pred = model.predict(X_test): Melakukan prediksi pada data evaluasi menggunakan model yang sudah ditraining.\n",
        "* accuracy_score(y_test, y_pred): Menghitung akurasi pada data evaluasi. Akurasi adalah jumlah prediksi yang benar dibagi dengan total jumlah data evaluasi.\n",
        "* precision_score(y_test, y_pred): Menghitung presisi pada data evaluasi. Presisi adalah jumlah prediksi yang benar untuk kelas tertentu dibagi dengan total jumlah prediksi yang dilakukan untuk kelas tersebut.\n",
        "* recall_score(y_test, y_pred): Menghitung recall pada data evaluasi. Recall adalah jumlah prediksi yang benar untuk kelas tertentu dibagi dengan total jumlah data evaluasi yang sebenarnya.\n",
        "* f1_score(y_test, y_pred): Menghitung F1 score pada data evaluasi. F1 score adalah harmonic mean dari presisi dan recall.\n",
        "Setelah dijalankan, code tersebut akan menampilkan hasil evaluasi model pada data evaluasi, yaitu akurasi, presisi, recall, dan F1 score."
      ],
      "metadata": {
        "id": "ZKh9Nya9vbLW"
      }
    },
    {
      "cell_type": "markdown",
      "source": [
        "## 5. DEPLOYMENT"
      ],
      "metadata": {
        "id": "q_V0WunousRQ"
      }
    },
    {
      "cell_type": "code",
      "source": [
        "# # mengubah kolom UNS menjadi Cluster dan menambahkan kolom Academic_mean\n",
        "# df2[\"Cluster\"] = df2[\"UNS\"]\n",
        "# df2[\"Academic_mean\"] = df2.mean(axis=1)\n",
        "\n",
        "# # mengubah nilai kolom STG, SCG, dan PEG menjadi kategori sesuai dengan range tertentu\n",
        "# df2[\"STG_group_low\"] = df2[\"STG\"].apply(lambda x: 1 if x <= 0.33 else 0)\n",
        "# df2[\"STG_group_medium\"] = df2[\"STG\"].apply(lambda x: 1 if 0.33 < x <= 0.66 else 0)\n",
        "# df2[\"STG_group_high\"] = df2[\"STG\"].apply(lambda x: 1 if x > 0.66 else 0)\n",
        "\n",
        "# # memilih kolom yang diperlukan dan menampilkan dataset baru\n",
        "# new_df = df2[[\"STG\", \"SCG\", \"PEG\", \"UNS\", \"Cluster\", \"Academic_mean\", \"STG_group_low\", \"STG_group_medium\", \"STG_group_high\"]]\n",
        "# print(new_df)"
      ],
      "metadata": {
        "id": "dn3uEIqtuCpr"
      },
      "execution_count": null,
      "outputs": []
    },
    {
      "cell_type": "code",
      "source": [
        "# Memisahkan variabel independen dan variabel dependen\n",
        "X = df2[['STG', 'SCG', 'PEG', 'UNS']]\n",
        "y = df2['Cluster']\n",
        "\n",
        "# Membuat kolom \"Academic_mean\" dengan nilai rata-rata dari STG, SCG, dan PEG\n",
        "df2['Academic_mean'] = (df2['STG'] + df2['SCG'] + df2['PEG']) / 3\n",
        "\n",
        "# Membuat kolom \"STG_group_low\", \"STG_group_medium\", dan \"STG_group_high\" berdasarkan nilai STG\n",
        "df2['STG_group_low'] = df2['STG'].apply(lambda x: 1 if x < 0.33 else 0)\n",
        "df2['STG_group_medium'] = df2['STG'].apply(lambda x: 1 if 0.33 <= x <= 0.66 else 0)\n",
        "df2['STG_group_high'] = df2['STG'].apply(lambda x: 1 if x > 0.66 else 0)\n",
        "\n",
        "# Menggabungkan variabel independen dan kolom yang sudah dibuat menjadi satu DataFrame baru\n",
        "new_df = pd.concat([X, df2[['Academic_mean', 'STG_group_low', 'STG_group_medium', 'STG_group_high']]], axis=1)\n",
        "\n",
        "# Menampilkan 5 baris teratas dari data deployment\n",
        "print(new_df.head())\n",
        "\n",
        "\n",
        "# Create bar chart of Cluster column\n",
        "plt.bar(df2['Cluster'].unique(), df2['Cluster'].value_counts())\n",
        "\n",
        "# Add title and labels\n",
        "plt.title('Number of Data Points in Each Cluster')\n",
        "plt.xlabel('Cluster')\n",
        "plt.ylabel('Count')\n",
        "\n",
        "# Display chart\n",
        "plt.show()"
      ],
      "metadata": {
        "colab": {
          "base_uri": "https://localhost:8080/",
          "height": 698
        },
        "id": "mAfwFXRFxZf9",
        "outputId": "1492b0a7-ed68-43fe-816f-9009125c4c1f"
      },
      "execution_count": null,
      "outputs": [
        {
          "output_type": "stream",
          "name": "stdout",
          "text": [
            "        STG       SCG       PEG  UNS  Academic_mean  STG_group_low  \\\n",
            "0  0.000000  0.000000  0.000000    4       0.000000              1   \n",
            "1  0.080808  0.088889  0.909091    0       0.359596              1   \n",
            "2  0.060606  0.066667  0.333333    1       0.153535              1   \n",
            "3  0.101010  0.111111  0.303030    2       0.171717              1   \n",
            "4  0.080808  0.088889  0.242424    1       0.137374              1   \n",
            "\n",
            "   STG_group_medium  STG_group_high  \n",
            "0                 0               0  \n",
            "1                 0               0  \n",
            "2                 0               0  \n",
            "3                 0               0  \n",
            "4                 0               0  \n"
          ]
        },
        {
          "output_type": "display_data",
          "data": {
            "text/plain": [
              "<Figure size 640x480 with 1 Axes>"
            ],
            "image/png": "[encoded data removed]"
          },
          "metadata": {}
        }
      ]
    },
    {
      "cell_type": "markdown",
      "source": [
        "Penjelasan Deployment\n",
        "\n",
        "1.   (Data Preprocessing)\n",
        "\n",
        "    Pada bagian ini, data awal yang diberikan diolah terlebih dahulu untuk mempersiapkan data yang akan digunakan untuk model deployment. Tahapan yang dilakukan adalah:\n",
        "* Memisahkan variabel independen (STG, SCG, PEG, UNS) dan variabel dependen (Cluster) dengan cara mengambil subset data frame menggunakan fungsi df2[['STG', 'SCG', 'PEG', 'UNS']] dan df2['Cluster'], kemudian ditampung ke dalam variabel X dan y masing-masing.\n",
        "* Membuat kolom baru \"Academic_mean\" yang berisi nilai rata-rata dari kolom STG, SCG, dan PEG dengan menggunakan rumus (df2['STG'] + df2['SCG'] + df2['PEG']) / 3, dan kolom ini ditambahkan ke dalam data frame df2.\n",
        "* Membuat tiga kolom baru \"STG_group_low\", \"STG_group_medium\", dan \"STG_group_high\" berdasarkan nilai STG. Untuk membuat ketiga kolom ini, nilai STG diubah menjadi 1 jika memenuhi syarat tertentu, dan 0 jika tidak. Fungsi apply() dan lambda function digunakan untuk membuat tiga kolom baru ini.\n",
        "* Menggabungkan variabel independen X dengan kolom \"Academic_mean\", \"STG_group_low\", \"STG_group_medium\", dan \"STG_group_high\" menjadi satu data frame baru new_df dengan menggunakan fungsi pd.concat().\n",
        "* Menampilkan 5 baris teratas dari data deployment yang sudah diproses.\n",
        "\n",
        "\n",
        "2. Visualisasi data deployment\n",
        "    Pada bagian ini, dilakukan visualisasi jumlah data dalam setiap cluster menggunakan bar chart dengan cara:\n",
        "* Menggunakan fungsi plt.bar() untuk membuat bar chart, dengan argumen pertama adalah nilai unik dari kolom \"Cluster\" (df2['Cluster'].unique()), dan argumen kedua adalah jumlah data dalam setiap nilai unik (df2['Cluster'].value_counts()).\n",
        "* Menambahkan judul (plt.title()), label sumbu x (plt.xlabel()), dan label sumbu y (plt.ylabel()).\n",
        "Menampilkan grafik yang telah dibuat menggunakan plt.show()."
      ],
      "metadata": {
        "id": "ZcI4CWyvyxOZ"
      }
    },
    {
      "cell_type": "markdown",
      "source": [
        "\n",
        "\n",
        " Menyimpan dataframe yang telah selesai dibersihkan\n",
        "\n"
      ],
      "metadata": {
        "id": "msQTupPoz8kL"
      }
    },
    {
      "cell_type": "code",
      "source": [
        "# taruh dataframe kedalam dataset baru\n",
        "new_df.to_csv('Predict_student_knowledge_level-Deplyoment.csv', index=False)"
      ],
      "metadata": {
        "id": "iHizFRTHza9u"
      },
      "execution_count": null,
      "outputs": []
    }
  ]
}